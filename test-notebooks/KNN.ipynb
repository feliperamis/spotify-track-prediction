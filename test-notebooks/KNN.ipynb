{
 "cells": [
  {
   "cell_type": "markdown",
   "metadata": {},
   "source": [
    "# K-NN in python: search for the best k"
   ]
  },
  {
   "cell_type": "markdown",
   "metadata": {},
   "source": [
    "## 1- Load the required modeules"
   ]
  },
  {
   "cell_type": "code",
   "execution_count": 1,
   "metadata": {},
   "outputs": [],
   "source": [
    "import numpy as np                     # Llibreria matemÃƒÂ tica\n",
    "import matplotlib.pyplot as plt        # Per mostrar plots\n",
    "import sklearn                         # Llibreia de DM\n",
    "import sklearn.datasets as ds            # Per carregar mÃƒÂ©s facilment el dataset digits\n",
    "import sklearn.model_selection as cv    # Pel Cross-validation\n",
    "import sklearn.neighbors as nb           # Per fer servir el knn\n",
    "import pandas as pd\n",
    "%matplotlib inline                     "
   ]
  },
  {
   "cell_type": "markdown",
   "metadata": {},
   "source": [
    "## 2- Load the data"
   ]
  },
  {
   "cell_type": "code",
   "execution_count": 2,
   "metadata": {},
   "outputs": [
    {
     "data": {
      "text/html": [
       "<div>\n",
       "<style scoped>\n",
       "    .dataframe tbody tr th:only-of-type {\n",
       "        vertical-align: middle;\n",
       "    }\n",
       "\n",
       "    .dataframe tbody tr th {\n",
       "        vertical-align: top;\n",
       "    }\n",
       "\n",
       "    .dataframe thead th {\n",
       "        text-align: right;\n",
       "    }\n",
       "</style>\n",
       "<table border=\"1\" class=\"dataframe\">\n",
       "  <thead>\n",
       "    <tr style=\"text-align: right;\">\n",
       "      <th></th>\n",
       "      <th>0</th>\n",
       "      <th>1</th>\n",
       "      <th>2</th>\n",
       "      <th>3</th>\n",
       "      <th>4</th>\n",
       "      <th>5</th>\n",
       "      <th>6</th>\n",
       "      <th>7</th>\n",
       "      <th>8</th>\n",
       "      <th>9</th>\n",
       "      <th>...</th>\n",
       "      <th>12</th>\n",
       "      <th>13</th>\n",
       "      <th>14</th>\n",
       "      <th>15</th>\n",
       "      <th>16</th>\n",
       "      <th>17</th>\n",
       "      <th>18</th>\n",
       "      <th>19</th>\n",
       "      <th>20</th>\n",
       "      <th>21</th>\n",
       "    </tr>\n",
       "  </thead>\n",
       "  <tbody>\n",
       "    <tr>\n",
       "      <th>0</th>\n",
       "      <td>NaN</td>\n",
       "      <td>num_artists</td>\n",
       "      <td>release_month</td>\n",
       "      <td>release_weekday</td>\n",
       "      <td>artist_followers</td>\n",
       "      <td>artist_popularity</td>\n",
       "      <td>danceability</td>\n",
       "      <td>energy</td>\n",
       "      <td>key</td>\n",
       "      <td>loudness</td>\n",
       "      <td>...</td>\n",
       "      <td>acousticness</td>\n",
       "      <td>instrumentalness</td>\n",
       "      <td>liveness</td>\n",
       "      <td>valence</td>\n",
       "      <td>tempo</td>\n",
       "      <td>time_signature</td>\n",
       "      <td>track_len</td>\n",
       "      <td>artist_len</td>\n",
       "      <td>duration</td>\n",
       "      <td>popularity</td>\n",
       "    </tr>\n",
       "    <tr>\n",
       "      <th>1</th>\n",
       "      <td>0.0</td>\n",
       "      <td>-0.6553246374131798</td>\n",
       "      <td>0.32383262091312454</td>\n",
       "      <td>0.3698068373714516</td>\n",
       "      <td>3.2328780463718707</td>\n",
       "      <td>2.3278140552046094</td>\n",
       "      <td>0.5768088710878628</td>\n",
       "      <td>0.9470290108611626</td>\n",
       "      <td>-1.4242773523737737</td>\n",
       "      <td>0.9368145388724062</td>\n",
       "      <td>...</td>\n",
       "      <td>-0.5973707559570185</td>\n",
       "      <td>-0.5225143109685256</td>\n",
       "      <td>-0.6265447165894913</td>\n",
       "      <td>0.47309405318736575</td>\n",
       "      <td>0.08536660806090722</td>\n",
       "      <td>0.2585046185719715</td>\n",
       "      <td>-0.7583768064249115</td>\n",
       "      <td>-0.1987833411948581</td>\n",
       "      <td>0.0382764192998054</td>\n",
       "      <td>2</td>\n",
       "    </tr>\n",
       "    <tr>\n",
       "      <th>2</th>\n",
       "      <td>1.0</td>\n",
       "      <td>-0.6553246374131798</td>\n",
       "      <td>0.6400259640918348</td>\n",
       "      <td>0.3698068373714516</td>\n",
       "      <td>0.876533439841487</td>\n",
       "      <td>2.051966042700506</td>\n",
       "      <td>0.10616685999610039</td>\n",
       "      <td>-0.27808622849751236</td>\n",
       "      <td>0.5373037791357987</td>\n",
       "      <td>0.24173707526404314</td>\n",
       "      <td>...</td>\n",
       "      <td>-0.9607158338956964</td>\n",
       "      <td>-0.5296155544681974</td>\n",
       "      <td>0.23018019245521687</td>\n",
       "      <td>-1.5806110453505975</td>\n",
       "      <td>-1.274779931145266</td>\n",
       "      <td>0.2585046185719715</td>\n",
       "      <td>-0.28744064386117</td>\n",
       "      <td>-0.016080073597765372</td>\n",
       "      <td>-0.3283068796236636</td>\n",
       "      <td>2</td>\n",
       "    </tr>\n",
       "    <tr>\n",
       "      <th>3</th>\n",
       "      <td>2.0</td>\n",
       "      <td>0.176584483135288</td>\n",
       "      <td>0.6400259640918348</td>\n",
       "      <td>0.3698068373714516</td>\n",
       "      <td>0.6939521683445347</td>\n",
       "      <td>1.7761180301964028</td>\n",
       "      <td>-0.4954785974820291</td>\n",
       "      <td>0.4679540963656807</td>\n",
       "      <td>-0.023147972724079095</td>\n",
       "      <td>0.6218060130259732</td>\n",
       "      <td>...</td>\n",
       "      <td>-0.9234293302644346</td>\n",
       "      <td>-0.5296325624214641</td>\n",
       "      <td>-0.3100343823668303</td>\n",
       "      <td>-0.060660774452957526</td>\n",
       "      <td>1.9585686751947569</td>\n",
       "      <td>0.2585046185719715</td>\n",
       "      <td>0.5366976406253775</td>\n",
       "      <td>-0.38148660879195084</td>\n",
       "      <td>-0.20226056824175237</td>\n",
       "      <td>2</td>\n",
       "    </tr>\n",
       "    <tr>\n",
       "      <th>4</th>\n",
       "      <td>3.0</td>\n",
       "      <td>-0.6553246374131798</td>\n",
       "      <td>0.6400259640918348</td>\n",
       "      <td>-1.5033639262839422</td>\n",
       "      <td>2.9093539795604815</td>\n",
       "      <td>1.6841686926950352</td>\n",
       "      <td>-0.3450672331124966</td>\n",
       "      <td>-0.5962504846891684</td>\n",
       "      <td>-0.303373848654018</td>\n",
       "      <td>0.20993269540271478</td>\n",
       "      <td>...</td>\n",
       "      <td>0.41809147059649177</td>\n",
       "      <td>-0.5296325624214641</td>\n",
       "      <td>0.23018019245521687</td>\n",
       "      <td>-1.4509253020723625</td>\n",
       "      <td>-0.4780392828837656</td>\n",
       "      <td>0.2585046185719715</td>\n",
       "      <td>-0.28744064386117</td>\n",
       "      <td>-0.016080073597765372</td>\n",
       "      <td>-0.04346556810644652</td>\n",
       "      <td>2</td>\n",
       "    </tr>\n",
       "  </tbody>\n",
       "</table>\n",
       "<p>5 rows × 22 columns</p>\n",
       "</div>"
      ],
      "text/plain": [
       "    0                    1                    2                    3   \\\n",
       "0  NaN          num_artists        release_month      release_weekday   \n",
       "1  0.0  -0.6553246374131798  0.32383262091312454   0.3698068373714516   \n",
       "2  1.0  -0.6553246374131798   0.6400259640918348   0.3698068373714516   \n",
       "3  2.0    0.176584483135288   0.6400259640918348   0.3698068373714516   \n",
       "4  3.0  -0.6553246374131798   0.6400259640918348  -1.5033639262839422   \n",
       "\n",
       "                   4                   5                    6   \\\n",
       "0    artist_followers   artist_popularity         danceability   \n",
       "1  3.2328780463718707  2.3278140552046094   0.5768088710878628   \n",
       "2   0.876533439841487   2.051966042700506  0.10616685999610039   \n",
       "3  0.6939521683445347  1.7761180301964028  -0.4954785974820291   \n",
       "4  2.9093539795604815  1.6841686926950352  -0.3450672331124966   \n",
       "\n",
       "                     7                      8                    9   ...  \\\n",
       "0                energy                    key             loudness  ...   \n",
       "1    0.9470290108611626    -1.4242773523737737   0.9368145388724062  ...   \n",
       "2  -0.27808622849751236     0.5373037791357987  0.24173707526404314  ...   \n",
       "3    0.4679540963656807  -0.023147972724079095   0.6218060130259732  ...   \n",
       "4   -0.5962504846891684     -0.303373848654018  0.20993269540271478  ...   \n",
       "\n",
       "                    12                   13                   14  \\\n",
       "0         acousticness     instrumentalness             liveness   \n",
       "1  -0.5973707559570185  -0.5225143109685256  -0.6265447165894913   \n",
       "2  -0.9607158338956964  -0.5296155544681974  0.23018019245521687   \n",
       "3  -0.9234293302644346  -0.5296325624214641  -0.3100343823668303   \n",
       "4  0.41809147059649177  -0.5296325624214641  0.23018019245521687   \n",
       "\n",
       "                      15                   16                  17  \\\n",
       "0                valence                tempo      time_signature   \n",
       "1    0.47309405318736575  0.08536660806090722  0.2585046185719715   \n",
       "2    -1.5806110453505975   -1.274779931145266  0.2585046185719715   \n",
       "3  -0.060660774452957526   1.9585686751947569  0.2585046185719715   \n",
       "4    -1.4509253020723625  -0.4780392828837656  0.2585046185719715   \n",
       "\n",
       "                    18                     19                    20  \\\n",
       "0            track_len             artist_len              duration   \n",
       "1  -0.7583768064249115    -0.1987833411948581    0.0382764192998054   \n",
       "2    -0.28744064386117  -0.016080073597765372   -0.3283068796236636   \n",
       "3   0.5366976406253775   -0.38148660879195084  -0.20226056824175237   \n",
       "4    -0.28744064386117  -0.016080073597765372  -0.04346556810644652   \n",
       "\n",
       "           21  \n",
       "0  popularity  \n",
       "1           2  \n",
       "2           2  \n",
       "3           2  \n",
       "4           2  \n",
       "\n",
       "[5 rows x 22 columns]"
      ]
     },
     "execution_count": 2,
     "metadata": {},
     "output_type": "execute_result"
    }
   ],
   "source": [
    "df=pd.read_csv(\"../datasets/NormalizedSpotifyDataset.csv\",header=None)\n",
    "df.head()"
   ]
  },
  {
   "cell_type": "code",
   "execution_count": 3,
   "metadata": {},
   "outputs": [
    {
     "data": {
      "text/html": [
       "<div>\n",
       "<style scoped>\n",
       "    .dataframe tbody tr th:only-of-type {\n",
       "        vertical-align: middle;\n",
       "    }\n",
       "\n",
       "    .dataframe tbody tr th {\n",
       "        vertical-align: top;\n",
       "    }\n",
       "\n",
       "    .dataframe thead th {\n",
       "        text-align: right;\n",
       "    }\n",
       "</style>\n",
       "<table border=\"1\" class=\"dataframe\">\n",
       "  <thead>\n",
       "    <tr style=\"text-align: right;\">\n",
       "      <th></th>\n",
       "      <th>num_artists</th>\n",
       "      <th>release_month</th>\n",
       "      <th>release_weekday</th>\n",
       "      <th>artist_followers</th>\n",
       "      <th>artist_popularity</th>\n",
       "      <th>danceability</th>\n",
       "      <th>energy</th>\n",
       "      <th>key</th>\n",
       "      <th>loudness</th>\n",
       "      <th>mode</th>\n",
       "      <th>...</th>\n",
       "      <th>acousticness</th>\n",
       "      <th>instrumentalness</th>\n",
       "      <th>liveness</th>\n",
       "      <th>valence</th>\n",
       "      <th>tempo</th>\n",
       "      <th>time_signature</th>\n",
       "      <th>track_len</th>\n",
       "      <th>artist_len</th>\n",
       "      <th>duration</th>\n",
       "      <th>popularity</th>\n",
       "    </tr>\n",
       "  </thead>\n",
       "  <tbody>\n",
       "    <tr>\n",
       "      <th>1</th>\n",
       "      <td>-0.6553246374131798</td>\n",
       "      <td>0.32383262091312454</td>\n",
       "      <td>0.3698068373714516</td>\n",
       "      <td>3.2328780463718707</td>\n",
       "      <td>2.3278140552046094</td>\n",
       "      <td>0.5768088710878628</td>\n",
       "      <td>0.9470290108611626</td>\n",
       "      <td>-1.4242773523737737</td>\n",
       "      <td>0.9368145388724062</td>\n",
       "      <td>0.7454893895466356</td>\n",
       "      <td>...</td>\n",
       "      <td>-0.5973707559570185</td>\n",
       "      <td>-0.5225143109685256</td>\n",
       "      <td>-0.6265447165894913</td>\n",
       "      <td>0.47309405318736575</td>\n",
       "      <td>0.08536660806090722</td>\n",
       "      <td>0.2585046185719715</td>\n",
       "      <td>-0.7583768064249115</td>\n",
       "      <td>-0.1987833411948581</td>\n",
       "      <td>0.0382764192998054</td>\n",
       "      <td>2</td>\n",
       "    </tr>\n",
       "    <tr>\n",
       "      <th>2</th>\n",
       "      <td>-0.6553246374131798</td>\n",
       "      <td>0.6400259640918348</td>\n",
       "      <td>0.3698068373714516</td>\n",
       "      <td>0.876533439841487</td>\n",
       "      <td>2.051966042700506</td>\n",
       "      <td>0.10616685999610039</td>\n",
       "      <td>-0.27808622849751236</td>\n",
       "      <td>0.5373037791357987</td>\n",
       "      <td>0.24173707526404314</td>\n",
       "      <td>-1.3414007147816598</td>\n",
       "      <td>...</td>\n",
       "      <td>-0.9607158338956964</td>\n",
       "      <td>-0.5296155544681974</td>\n",
       "      <td>0.23018019245521687</td>\n",
       "      <td>-1.5806110453505975</td>\n",
       "      <td>-1.274779931145266</td>\n",
       "      <td>0.2585046185719715</td>\n",
       "      <td>-0.28744064386117</td>\n",
       "      <td>-0.016080073597765372</td>\n",
       "      <td>-0.3283068796236636</td>\n",
       "      <td>2</td>\n",
       "    </tr>\n",
       "    <tr>\n",
       "      <th>3</th>\n",
       "      <td>0.176584483135288</td>\n",
       "      <td>0.6400259640918348</td>\n",
       "      <td>0.3698068373714516</td>\n",
       "      <td>0.6939521683445347</td>\n",
       "      <td>1.7761180301964028</td>\n",
       "      <td>-0.4954785974820291</td>\n",
       "      <td>0.4679540963656807</td>\n",
       "      <td>-0.023147972724079095</td>\n",
       "      <td>0.6218060130259732</td>\n",
       "      <td>-1.3414007147816598</td>\n",
       "      <td>...</td>\n",
       "      <td>-0.9234293302644346</td>\n",
       "      <td>-0.5296325624214641</td>\n",
       "      <td>-0.3100343823668303</td>\n",
       "      <td>-0.060660774452957526</td>\n",
       "      <td>1.9585686751947569</td>\n",
       "      <td>0.2585046185719715</td>\n",
       "      <td>0.5366976406253775</td>\n",
       "      <td>-0.38148660879195084</td>\n",
       "      <td>-0.20226056824175237</td>\n",
       "      <td>2</td>\n",
       "    </tr>\n",
       "    <tr>\n",
       "      <th>4</th>\n",
       "      <td>-0.6553246374131798</td>\n",
       "      <td>0.6400259640918348</td>\n",
       "      <td>-1.5033639262839422</td>\n",
       "      <td>2.9093539795604815</td>\n",
       "      <td>1.6841686926950352</td>\n",
       "      <td>-0.3450672331124966</td>\n",
       "      <td>-0.5962504846891684</td>\n",
       "      <td>-0.303373848654018</td>\n",
       "      <td>0.20993269540271478</td>\n",
       "      <td>0.7454893895466356</td>\n",
       "      <td>...</td>\n",
       "      <td>0.41809147059649177</td>\n",
       "      <td>-0.5296325624214641</td>\n",
       "      <td>0.23018019245521687</td>\n",
       "      <td>-1.4509253020723625</td>\n",
       "      <td>-0.4780392828837656</td>\n",
       "      <td>0.2585046185719715</td>\n",
       "      <td>-0.28744064386117</td>\n",
       "      <td>-0.016080073597765372</td>\n",
       "      <td>-0.04346556810644652</td>\n",
       "      <td>2</td>\n",
       "    </tr>\n",
       "    <tr>\n",
       "      <th>5</th>\n",
       "      <td>-0.6553246374131798</td>\n",
       "      <td>0.007639277734414316</td>\n",
       "      <td>0.3698068373714516</td>\n",
       "      <td>0.009941477758655596</td>\n",
       "      <td>1.3163713426895642</td>\n",
       "      <td>0.9795231692385467</td>\n",
       "      <td>0.2046457464139652</td>\n",
       "      <td>0.2570779032058598</td>\n",
       "      <td>0.4601447460959855</td>\n",
       "      <td>-1.3414007147816598</td>\n",
       "      <td>...</td>\n",
       "      <td>-0.7666144603826035</td>\n",
       "      <td>-0.5296325624214641</td>\n",
       "      <td>1.539161662216331</td>\n",
       "      <td>0.9943390020548691</td>\n",
       "      <td>0.3958657158910729</td>\n",
       "      <td>-5.303183858228962</td>\n",
       "      <td>-0.4444193647157505</td>\n",
       "      <td>-0.5641898763890435</td>\n",
       "      <td>-0.24145891386338766</td>\n",
       "      <td>2</td>\n",
       "    </tr>\n",
       "  </tbody>\n",
       "</table>\n",
       "<p>5 rows × 21 columns</p>\n",
       "</div>"
      ],
      "text/plain": [
       "0          num_artists         release_month      release_weekday  \\\n",
       "1  -0.6553246374131798   0.32383262091312454   0.3698068373714516   \n",
       "2  -0.6553246374131798    0.6400259640918348   0.3698068373714516   \n",
       "3    0.176584483135288    0.6400259640918348   0.3698068373714516   \n",
       "4  -0.6553246374131798    0.6400259640918348  -1.5033639262839422   \n",
       "5  -0.6553246374131798  0.007639277734414316   0.3698068373714516   \n",
       "\n",
       "0      artist_followers   artist_popularity         danceability  \\\n",
       "1    3.2328780463718707  2.3278140552046094   0.5768088710878628   \n",
       "2     0.876533439841487   2.051966042700506  0.10616685999610039   \n",
       "3    0.6939521683445347  1.7761180301964028  -0.4954785974820291   \n",
       "4    2.9093539795604815  1.6841686926950352  -0.3450672331124966   \n",
       "5  0.009941477758655596  1.3163713426895642   0.9795231692385467   \n",
       "\n",
       "0                energy                    key             loudness  \\\n",
       "1    0.9470290108611626    -1.4242773523737737   0.9368145388724062   \n",
       "2  -0.27808622849751236     0.5373037791357987  0.24173707526404314   \n",
       "3    0.4679540963656807  -0.023147972724079095   0.6218060130259732   \n",
       "4   -0.5962504846891684     -0.303373848654018  0.20993269540271478   \n",
       "5    0.2046457464139652     0.2570779032058598   0.4601447460959855   \n",
       "\n",
       "0                 mode  ...         acousticness     instrumentalness  \\\n",
       "1   0.7454893895466356  ...  -0.5973707559570185  -0.5225143109685256   \n",
       "2  -1.3414007147816598  ...  -0.9607158338956964  -0.5296155544681974   \n",
       "3  -1.3414007147816598  ...  -0.9234293302644346  -0.5296325624214641   \n",
       "4   0.7454893895466356  ...  0.41809147059649177  -0.5296325624214641   \n",
       "5  -1.3414007147816598  ...  -0.7666144603826035  -0.5296325624214641   \n",
       "\n",
       "0             liveness                valence                tempo  \\\n",
       "1  -0.6265447165894913    0.47309405318736575  0.08536660806090722   \n",
       "2  0.23018019245521687    -1.5806110453505975   -1.274779931145266   \n",
       "3  -0.3100343823668303  -0.060660774452957526   1.9585686751947569   \n",
       "4  0.23018019245521687    -1.4509253020723625  -0.4780392828837656   \n",
       "5    1.539161662216331     0.9943390020548691   0.3958657158910729   \n",
       "\n",
       "0      time_signature            track_len             artist_len  \\\n",
       "1  0.2585046185719715  -0.7583768064249115    -0.1987833411948581   \n",
       "2  0.2585046185719715    -0.28744064386117  -0.016080073597765372   \n",
       "3  0.2585046185719715   0.5366976406253775   -0.38148660879195084   \n",
       "4  0.2585046185719715    -0.28744064386117  -0.016080073597765372   \n",
       "5  -5.303183858228962  -0.4444193647157505    -0.5641898763890435   \n",
       "\n",
       "0              duration popularity  \n",
       "1    0.0382764192998054          2  \n",
       "2   -0.3283068796236636          2  \n",
       "3  -0.20226056824175237          2  \n",
       "4  -0.04346556810644652          2  \n",
       "5  -0.24145891386338766          2  \n",
       "\n",
       "[5 rows x 21 columns]"
      ]
     },
     "execution_count": 3,
     "metadata": {},
     "output_type": "execute_result"
    }
   ],
   "source": [
    "df.columns = df.iloc[0]\n",
    "df = df.drop(0)\n",
    "df.columns = df.columns.fillna('to_drop')\n",
    "df.drop('to_drop', axis = 1, inplace = True)\n",
    "df.head()"
   ]
  },
  {
   "cell_type": "code",
   "execution_count": 4,
   "metadata": {},
   "outputs": [
    {
     "name": "stdout",
     "output_type": "stream",
     "text": [
      "(8692, 16)\n",
      "(8692,)\n"
     ]
    }
   ],
   "source": [
    "X = df.drop(['popularity', 'key', 'mode', 'tempo', 'time_signature'],axis=1).values  \n",
    "y = df['popularity'].values\n",
    "print(X.shape)\n",
    "print(y.shape)"
   ]
  },
  {
   "cell_type": "markdown",
   "metadata": {},
   "source": [
    "## 10-fold cross-validation"
   ]
  },
  {
   "cell_type": "code",
   "execution_count": 6,
   "metadata": {},
   "outputs": [
    {
     "name": "stdout",
     "output_type": "stream",
     "text": [
      "[0.61538462 0.66781609 0.70574713 0.62068966 0.57767549 0.53164557\n",
      " 0.6547756  0.68778802 0.65552995 0.46658986]\n"
     ]
    }
   ],
   "source": [
    "# Method 1\n",
    "from sklearn.model_selection import cross_val_score  \n",
    "from sklearn.model_selection import cross_val_predict  \n",
    "from sklearn.model_selection import train_test_split\n",
    "from sklearn.metrics import accuracy_score\n",
    "\n",
    "(X_train, X_test,  y_train, y_test) = train_test_split(X, y, test_size=.3, random_state=1)\n",
    "\n",
    "cv_scores = cross_val_score(nb.KNeighborsClassifier(),  \n",
    "                            X=X,  \n",
    "                            y=y,  \n",
    "                            cv=10, scoring='accuracy')  \n",
    "\n",
    "# cv_scores is a list with 10 accuracies (one for each validation)\n",
    "print(cv_scores)"
   ]
  },
  {
   "cell_type": "code",
   "execution_count": 7,
   "metadata": {},
   "outputs": [
    {
     "name": "stdout",
     "output_type": "stream",
     "text": [
      "0.6183641985880056\n",
      "0.07059280636266502\n"
     ]
    }
   ],
   "source": [
    "# Let's get the mean of the 10 validations (and standard deviation of them)\n",
    "print(np.mean(cv_scores))\n",
    "print(np.std(cv_scores))"
   ]
  },
  {
   "cell_type": "code",
   "execution_count": 8,
   "metadata": {},
   "outputs": [
    {
     "name": "stdout",
     "output_type": "stream",
     "text": [
      "[[2280  582  189]\n",
      " [ 492 1748  747]\n",
      " [ 296 1011 1347]]\n",
      "0.6183847215830649\n"
     ]
    }
   ],
   "source": [
    "# Method 2\n",
    "# Build confussion matrix of all 10 cross-validations\n",
    "predicted = cross_val_predict(nb.KNeighborsClassifier(), X=X, y=y,  cv=10)  \n",
    "\n",
    "print(sklearn.metrics.confusion_matrix(y, predicted))\n",
    "print(sklearn.metrics.accuracy_score(y, predicted))"
   ]
  },
  {
   "cell_type": "code",
   "execution_count": 9,
   "metadata": {},
   "outputs": [
    {
     "data": {
      "image/png": "[encoded data removed]",
      "text/plain": [
       "<Figure size 180x180 with 1 Axes>"
      ]
     },
     "metadata": {
      "needs_background": "light"
     },
     "output_type": "display_data"
    }
   ],
   "source": [
    "confmat = sklearn.metrics.confusion_matrix(y, predicted)\n",
    "\n",
    "fig, ax = plt.subplots(figsize=(2.5, 2.5))\n",
    "ax.matshow(confmat, cmap=plt.cm.Blues, alpha=0.3)\n",
    "for i in range(confmat.shape[0]):\n",
    "    for j in range(confmat.shape[1]):\n",
    "        ax.text(x=j, y=i, s=confmat[i, j], va='center', ha='center',fontsize=7)\n",
    "\n",
    "plt.xlabel('Predicted label')\n",
    "plt.ylabel('True label')\n",
    "\n",
    "plt.tight_layout()\n",
    "plt.savefig('ConMatrix.png', dpi=600)\n",
    "plt.show()"
   ]
  },
  {
   "cell_type": "markdown",
   "metadata": {},
   "source": [
    "## Finding parameters for k-NN"
   ]
  },
  {
   "cell_type": "markdown",
   "metadata": {},
   "source": [
    "### Authomatically find best parameters:"
   ]
  },
  {
   "cell_type": "code",
   "execution_count": 10,
   "metadata": {},
   "outputs": [
    {
     "data": {
      "image/png": "[encoded data removed]",
      "text/plain": [
       "<Figure size 432x288 with 1 Axes>"
      ]
     },
     "metadata": {
      "needs_background": "light"
     },
     "output_type": "display_data"
    }
   ],
   "source": [
    "lr = []\n",
    "for ki in range(1,30,2):\n",
    "    cv_scores = cross_val_score(nb.KNeighborsClassifier(n_neighbors=ki), X=X_train, y=y_train, cv=10)\n",
    "    lr.append(np.mean(cv_scores))\n",
    "plt.plot(range(1,30,2),lr,'b',label='No weighting')\n",
    "\n",
    "lr = []\n",
    "for ki in range(1,30,2):\n",
    "    cv_scores = cross_val_score(nb.KNeighborsClassifier(n_neighbors=ki,weights='distance'), X=X_train, y=y_train, cv=10)\n",
    "    lr.append(np.mean(cv_scores))\n",
    "plt.plot(range(1,30,2),lr,'r',label='Weighting')\n",
    "plt.xlabel('k')\n",
    "plt.ylabel('Accuracy')\n",
    "plt.legend(loc='upper right')\n",
    "plt.grid()\n",
    "plt.tight_layout()\n",
    "\n",
    "plt.show()"
   ]
  },
  {
   "cell_type": "markdown",
   "metadata": {},
   "source": [
    "### Do the same using Grid Search method in python"
   ]
  },
  {
   "cell_type": "code",
   "execution_count": 11,
   "metadata": {},
   "outputs": [
    {
     "name": "stdout",
     "output_type": "stream",
     "text": [
      "Best Params= {'n_neighbors': 27, 'weights': 'uniform'} Accuracy= 0.6674884944115713\n"
     ]
    }
   ],
   "source": [
    "from sklearn.model_selection import GridSearchCV\n",
    "params = {'n_neighbors':list(range(1,30,2)), 'weights':('distance','uniform')}\n",
    "knc = nb.KNeighborsClassifier()\n",
    "clf = GridSearchCV(knc, param_grid=params,cv=10,n_jobs=-1)  # If cv is integer, by default is Stratifyed \n",
    "clf.fit(X_train, y_train)\n",
    "print(\"Best Params=\",clf.best_params_, \"Accuracy=\", clf.best_score_)"
   ]
  },
  {
   "cell_type": "markdown",
   "metadata": {},
   "source": [
    "Apply models with best parameters found trained with all training data to the test set"
   ]
  },
  {
   "cell_type": "code",
   "execution_count": 12,
   "metadata": {},
   "outputs": [
    {
     "name": "stdout",
     "output_type": "stream",
     "text": [
      "[[689 180  54]\n",
      " [ 86 600 222]\n",
      " [ 55 298 424]]\n",
      "0.6568251533742331\n"
     ]
    }
   ],
   "source": [
    "parval=clf.best_params_\n",
    "knc = nb.KNeighborsClassifier(n_neighbors=parval['n_neighbors'],weights=parval['weights'])\n",
    "knc.fit(X_train, y_train)\n",
    "pred=knc.predict(X_test)\n",
    "print(sklearn.metrics.confusion_matrix(y_test, pred))\n",
    "print(sklearn.metrics.accuracy_score(y_test, pred))"
   ]
  },
  {
   "cell_type": "code",
   "execution_count": 13,
   "metadata": {},
   "outputs": [
    {
     "name": "stdout",
     "output_type": "stream",
     "text": [
      "Can approximate by Normal Distribution?:  True\n",
      "Interval 95% confidence: 0.657 +/- 0.018\n"
     ]
    },
    {
     "data": {
      "text/plain": [
       "(0.6386039561220397, 0.6750463506264265)"
      ]
     },
     "execution_count": 13,
     "metadata": {},
     "output_type": "execute_result"
    }
   ],
   "source": [
    "# interval confidence\n",
    "from statsmodels.stats.proportion import proportion_confint\n",
    "\n",
    "epsilon = sklearn.metrics.accuracy_score(y_test, pred)\n",
    "print(\"Can approximate by Normal Distribution?: \",X_test.shape[0]*epsilon*(1-epsilon)>5)\n",
    "print(\"Interval 95% confidence:\", \"{0:.3f}\".format(epsilon), \"+/-\", \"{0:.3f}\".format(1.96*np.sqrt(epsilon*(1-epsilon)/X_test.shape[0])))\n",
    "# or equivalent \n",
    "proportion_confint(count=epsilon*X_test.shape[0], nobs=X_test.shape[0], alpha=0.05, method='normal')"
   ]
  },
  {
   "cell_type": "code",
   "execution_count": 14,
   "metadata": {},
   "outputs": [
    {
     "data": {
      "text/plain": [
       "(0.6378610262292763, 0.6744823155105135)"
      ]
     },
     "execution_count": 14,
     "metadata": {},
     "output_type": "execute_result"
    }
   ],
   "source": [
    "#Using Binomial distribution\n",
    "\n",
    "proportion_confint(count=epsilon*X_test.shape[0], nobs=X_test.shape[0], alpha=0.05, method='binom_test')"
   ]
  },
  {
   "cell_type": "code",
   "execution_count": 30,
   "metadata": {},
   "outputs": [],
   "source": [
    "from sklearn.feature_selection import SelectKBest\n",
    "from sklearn.feature_selection import chi2, mutual_info_classif"
   ]
  },
  {
   "cell_type": "code",
   "execution_count": 31,
   "metadata": {},
   "outputs": [
    {
     "data": {
      "image/png": "[encoded data removed]",
      "text/plain": [
       "<Figure size 432x288 with 1 Axes>"
      ]
     },
     "metadata": {
      "needs_background": "light"
     },
     "output_type": "display_data"
    }
   ],
   "source": [
    "lr = []\n",
    "for ki in range(1,30,2):\n",
    "    knc = nb.KNeighborsClassifier(n_neighbors=ki)\n",
    "    knc.fit(X_train, y_train)\n",
    "    lr.append(knc.score(X_test, y_test))   \n",
    "plt.plot(range(1,30,2),lr,'b',label='No noise')\n",
    "\n",
    "for kbest in range(1,15,3):\n",
    "    fs = SelectKBest(mutual_info_classif, k=kbest).fit(X_train, y_train) #chi2\n",
    "    X_new = fs.transform(X_train)\n",
    "    Xt_new = fs.transform(X_test)\n",
    "    lr = []\n",
    "    for ki in range(1,30,2):\n",
    "        knc = nb.KNeighborsClassifier(n_neighbors=ki)\n",
    "        knc.fit(X_new, y_train)\n",
    "        lr.append(knc.score(Xt_new, y_test))   \n",
    "    plt.plot(range(1,30,2),lr,label=str(kbest) + ' Features')\n",
    "\n",
    "plt.xlabel('k')\n",
    "plt.ylabel('Accuracy')\n",
    "plt.legend(loc='upper right')\n",
    "plt.grid()\n",
    "plt.tight_layout()\n",
    "\n",
    "plt.show()"
   ]
  },
  {
   "cell_type": "code",
   "execution_count": null,
   "metadata": {},
   "outputs": [],
   "source": []
  }
 ],
 "metadata": {
  "anaconda-cloud": {},
  "kernelspec": {
   "display_name": "Python 3",
   "language": "python",
   "name": "python3"
  },
  "language_info": {
   "codemirror_mode": {
    "name": "ipython",
    "version": 3
   },
   "file_extension": ".py",
   "mimetype": "text/x-python",
   "name": "python",
   "nbconvert_exporter": "python",
   "pygments_lexer": "ipython3",
   "version": "3.7.3"
  }
 },
 "nbformat": 4,
 "nbformat_minor": 1
}
