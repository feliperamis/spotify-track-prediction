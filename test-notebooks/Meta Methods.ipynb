{
  "cells": [
    {
      "cell_type": "markdown",
      "source": [
        "# Meta Methods applied to the Spotify song features data set"
      ],
      "metadata": {}
    },
    {
      "cell_type": "code",
      "source": [
        "# Import libraries \n",
        "\n",
        "import numpy as np    # Numeric and matrix computation\n",
        "import pandas   # Optional: good package for manipulating data \n",
        "import sklearn as sk  # Package with learning algorithms implemented\n",
        "\n",
        "df = pandas.read_csv('../datasets/NormalizedSpotifyDataset.csv', index_col=0)\n",
        "df.head()"
      ],
      "outputs": [
        {
          "output_type": "execute_result",
          "execution_count": 1,
          "data": {
            "text/html": [
              "<div>\n",
              "<style scoped>\n",
              "    .dataframe tbody tr th:only-of-type {\n",
              "        vertical-align: middle;\n",
              "    }\n",
              "\n",
              "    .dataframe tbody tr th {\n",
              "        vertical-align: top;\n",
              "    }\n",
              "\n",
              "    .dataframe thead th {\n",
              "        text-align: right;\n",
              "    }\n",
              "</style>\n",
              "<table border=\"1\" class=\"dataframe\">\n",
              "  <thead>\n",
              "    <tr style=\"text-align: right;\">\n",
              "      <th></th>\n",
              "      <th>num_artists</th>\n",
              "      <th>release_month</th>\n",
              "      <th>release_weekday</th>\n",
              "      <th>artist_followers</th>\n",
              "      <th>artist_popularity</th>\n",
              "      <th>danceability</th>\n",
              "      <th>energy</th>\n",
              "      <th>key</th>\n",
              "      <th>loudness</th>\n",
              "      <th>mode</th>\n",
              "      <th>...</th>\n",
              "      <th>acousticness</th>\n",
              "      <th>instrumentalness</th>\n",
              "      <th>liveness</th>\n",
              "      <th>valence</th>\n",
              "      <th>tempo</th>\n",
              "      <th>time_signature</th>\n",
              "      <th>track_len</th>\n",
              "      <th>artist_len</th>\n",
              "      <th>duration</th>\n",
              "      <th>popularity</th>\n",
              "    </tr>\n",
              "  </thead>\n",
              "  <tbody>\n",
              "    <tr>\n",
              "      <th>0</th>\n",
              "      <td>-0.655325</td>\n",
              "      <td>0.323833</td>\n",
              "      <td>0.369807</td>\n",
              "      <td>3.232878</td>\n",
              "      <td>2.327814</td>\n",
              "      <td>0.576809</td>\n",
              "      <td>0.947029</td>\n",
              "      <td>-1.424277</td>\n",
              "      <td>0.936815</td>\n",
              "      <td>0.745489</td>\n",
              "      <td>...</td>\n",
              "      <td>-0.597371</td>\n",
              "      <td>-0.522514</td>\n",
              "      <td>-0.626545</td>\n",
              "      <td>0.473094</td>\n",
              "      <td>0.085367</td>\n",
              "      <td>0.258505</td>\n",
              "      <td>-0.758377</td>\n",
              "      <td>-0.198783</td>\n",
              "      <td>0.038276</td>\n",
              "      <td>2</td>\n",
              "    </tr>\n",
              "    <tr>\n",
              "      <th>1</th>\n",
              "      <td>-0.655325</td>\n",
              "      <td>0.640026</td>\n",
              "      <td>0.369807</td>\n",
              "      <td>0.876533</td>\n",
              "      <td>2.051966</td>\n",
              "      <td>0.106167</td>\n",
              "      <td>-0.278086</td>\n",
              "      <td>0.537304</td>\n",
              "      <td>0.241737</td>\n",
              "      <td>-1.341401</td>\n",
              "      <td>...</td>\n",
              "      <td>-0.960716</td>\n",
              "      <td>-0.529616</td>\n",
              "      <td>0.230180</td>\n",
              "      <td>-1.580611</td>\n",
              "      <td>-1.274780</td>\n",
              "      <td>0.258505</td>\n",
              "      <td>-0.287441</td>\n",
              "      <td>-0.016080</td>\n",
              "      <td>-0.328307</td>\n",
              "      <td>2</td>\n",
              "    </tr>\n",
              "    <tr>\n",
              "      <th>2</th>\n",
              "      <td>0.176584</td>\n",
              "      <td>0.640026</td>\n",
              "      <td>0.369807</td>\n",
              "      <td>0.693952</td>\n",
              "      <td>1.776118</td>\n",
              "      <td>-0.495479</td>\n",
              "      <td>0.467954</td>\n",
              "      <td>-0.023148</td>\n",
              "      <td>0.621806</td>\n",
              "      <td>-1.341401</td>\n",
              "      <td>...</td>\n",
              "      <td>-0.923429</td>\n",
              "      <td>-0.529633</td>\n",
              "      <td>-0.310034</td>\n",
              "      <td>-0.060661</td>\n",
              "      <td>1.958569</td>\n",
              "      <td>0.258505</td>\n",
              "      <td>0.536698</td>\n",
              "      <td>-0.381487</td>\n",
              "      <td>-0.202261</td>\n",
              "      <td>2</td>\n",
              "    </tr>\n",
              "    <tr>\n",
              "      <th>3</th>\n",
              "      <td>-0.655325</td>\n",
              "      <td>0.640026</td>\n",
              "      <td>-1.503364</td>\n",
              "      <td>2.909354</td>\n",
              "      <td>1.684169</td>\n",
              "      <td>-0.345067</td>\n",
              "      <td>-0.596250</td>\n",
              "      <td>-0.303374</td>\n",
              "      <td>0.209933</td>\n",
              "      <td>0.745489</td>\n",
              "      <td>...</td>\n",
              "      <td>0.418091</td>\n",
              "      <td>-0.529633</td>\n",
              "      <td>0.230180</td>\n",
              "      <td>-1.450925</td>\n",
              "      <td>-0.478039</td>\n",
              "      <td>0.258505</td>\n",
              "      <td>-0.287441</td>\n",
              "      <td>-0.016080</td>\n",
              "      <td>-0.043466</td>\n",
              "      <td>2</td>\n",
              "    </tr>\n",
              "    <tr>\n",
              "      <th>4</th>\n",
              "      <td>-0.655325</td>\n",
              "      <td>0.007639</td>\n",
              "      <td>0.369807</td>\n",
              "      <td>0.009941</td>\n",
              "      <td>1.316371</td>\n",
              "      <td>0.979523</td>\n",
              "      <td>0.204646</td>\n",
              "      <td>0.257078</td>\n",
              "      <td>0.460145</td>\n",
              "      <td>-1.341401</td>\n",
              "      <td>...</td>\n",
              "      <td>-0.766614</td>\n",
              "      <td>-0.529633</td>\n",
              "      <td>1.539162</td>\n",
              "      <td>0.994339</td>\n",
              "      <td>0.395866</td>\n",
              "      <td>-5.303184</td>\n",
              "      <td>-0.444419</td>\n",
              "      <td>-0.564190</td>\n",
              "      <td>-0.241459</td>\n",
              "      <td>2</td>\n",
              "    </tr>\n",
              "  </tbody>\n",
              "</table>\n",
              "<p>5 rows × 21 columns</p>\n",
              "</div>"
            ],
            "text/plain": [
              "   num_artists  release_month  release_weekday  artist_followers  \\\n",
              "0    -0.655325       0.323833         0.369807          3.232878   \n",
              "1    -0.655325       0.640026         0.369807          0.876533   \n",
              "2     0.176584       0.640026         0.369807          0.693952   \n",
              "3    -0.655325       0.640026        -1.503364          2.909354   \n",
              "4    -0.655325       0.007639         0.369807          0.009941   \n",
              "\n",
              "   artist_popularity  danceability    energy       key  loudness      mode  \\\n",
              "0           2.327814      0.576809  0.947029 -1.424277  0.936815  0.745489   \n",
              "1           2.051966      0.106167 -0.278086  0.537304  0.241737 -1.341401   \n",
              "2           1.776118     -0.495479  0.467954 -0.023148  0.621806 -1.341401   \n",
              "3           1.684169     -0.345067 -0.596250 -0.303374  0.209933  0.745489   \n",
              "4           1.316371      0.979523  0.204646  0.257078  0.460145 -1.341401   \n",
              "\n",
              "   ...  acousticness  instrumentalness  liveness   valence     tempo  \\\n",
              "0  ...     -0.597371         -0.522514 -0.626545  0.473094  0.085367   \n",
              "1  ...     -0.960716         -0.529616  0.230180 -1.580611 -1.274780   \n",
              "2  ...     -0.923429         -0.529633 -0.310034 -0.060661  1.958569   \n",
              "3  ...      0.418091         -0.529633  0.230180 -1.450925 -0.478039   \n",
              "4  ...     -0.766614         -0.529633  1.539162  0.994339  0.395866   \n",
              "\n",
              "   time_signature  track_len  artist_len  duration  popularity  \n",
              "0        0.258505  -0.758377   -0.198783  0.038276           2  \n",
              "1        0.258505  -0.287441   -0.016080 -0.328307           2  \n",
              "2        0.258505   0.536698   -0.381487 -0.202261           2  \n",
              "3        0.258505  -0.287441   -0.016080 -0.043466           2  \n",
              "4       -5.303184  -0.444419   -0.564190 -0.241459           2  \n",
              "\n",
              "[5 rows x 21 columns]"
            ]
          },
          "metadata": {}
        }
      ],
      "execution_count": 1,
      "metadata": {}
    },
    {
      "cell_type": "code",
      "source": [
        "# No preprocessing needed. Numerical and scaled data\n",
        "# Separate data from labels\n",
        "\n",
        "X = df.drop(labels='popularity',axis=1).values\n",
        "y = df['popularity'].values"
      ],
      "outputs": [],
      "execution_count": 2,
      "metadata": {}
    },
    {
      "cell_type": "markdown",
      "source": [
        "## Voting scheme"
      ],
      "metadata": {}
    },
    {
      "cell_type": "code",
      "source": [
        "from sklearn.model_selection import cross_val_score\n",
        "#from sklearn.linear_model import LogisticRegression\n",
        "from sklearn.naive_bayes import GaussianNB\n",
        "from sklearn.ensemble import VotingClassifier\n",
        "from sklearn.tree import DecisionTreeClassifier\n",
        "from sklearn.neighbors import KNeighborsClassifier\n",
        "from sklearn.model_selection import GridSearchCV\n",
        "\n",
        "cv=50\n",
        "\n",
        "clf1 = GaussianNB()\n",
        "\n",
        "params = {'n_neighbors':list(range(1,30,2)), 'weights':('distance','uniform')}\n",
        "knc = KNeighborsClassifier()\n",
        "clf = GridSearchCV(knc, param_grid=params,cv=cv,n_jobs=-1)  # If cv is integer, by default is Stratifyed \n",
        "clf.fit(X, y)\n",
        "print(\"Best Params fo Knn=\",clf.best_params_, \"Accuracy=\", clf.best_score_)\n",
        "parval=clf.best_params_\n",
        "clf2 = KNeighborsClassifier(n_neighbors=parval['n_neighbors'],weights=parval['weights'])\n",
        "\n",
        "clf3 = DecisionTreeClassifier(criterion='entropy')\n",
        "\n",
        "\n",
        "for clf, label in zip([clf1, clf2, clf3], ['Naive Bayes','Knn (3)', 'Dec. Tree', ]):\n",
        "    scores = cross_val_score(clf, X, y, cv=cv, scoring='accuracy')\n",
        "    print(\"Accuracy: %0.3f [%s]\" % (scores.mean(), label))\n",
        "    "
      ],
      "outputs": [
        {
          "output_type": "stream",
          "name": "stdout",
          "text": [
            "Best Params fo Knn= {'n_neighbors': 25, 'weights': 'distance'} Accuracy= 0.640819144040497\n",
            "Accuracy: 0.598 [Naive Bayes]\n",
            "Accuracy: 0.641 [Knn (3)]\n",
            "Accuracy: 0.628 [Dec. Tree]\n"
          ]
        }
      ],
      "execution_count": 3,
      "metadata": {}
    },
    {
      "cell_type": "code",
      "source": [
        "import warnings\n",
        "warnings.filterwarnings(\"ignore\", category=DeprecationWarning)\n",
        "\n",
        "eclf = VotingClassifier(estimators=[('nb', clf1), ('knn3', clf2), ('dt', clf3)], voting='hard')\n",
        "scores = cross_val_score(eclf, X, y, cv=cv, scoring='accuracy')\n",
        "print(\"Accuracy: %0.3f [%s]\" % (scores.mean() , \"Majority Voting\"))\n"
      ],
      "outputs": [
        {
          "output_type": "stream",
          "name": "stdout",
          "text": [
            "Accuracy: 0.645 [Majority Voting]\n"
          ]
        }
      ],
      "execution_count": 4,
      "metadata": {}
    },
    {
      "cell_type": "code",
      "source": [
        "eclf = VotingClassifier(estimators=[('nb', clf1), ('knn3', clf2), ('dt', clf3)],voting='soft', weights=[1,3,2])\n",
        "scores = cross_val_score(eclf, X, y, cv=cv, scoring='accuracy')\n",
        "print(\"Accuracy: %0.3f [%s]\" % (scores.mean(), \"Weighted Voting\"))"
      ],
      "outputs": [
        {
          "output_type": "stream",
          "name": "stdout",
          "text": [
            "Accuracy: 0.642 [Weighted Voting]\n"
          ]
        }
      ],
      "execution_count": 5,
      "metadata": {}
    },
    {
      "cell_type": "markdown",
      "source": [
        "## Bagging"
      ],
      "metadata": {}
    },
    {
      "cell_type": "code",
      "source": [
        "from sklearn.ensemble import BaggingClassifier\n",
        "\n",
        "lb=[]\n",
        "for nest in [1,2,5,10,20,50,100,200]:\n",
        "    scores = cross_val_score(BaggingClassifier(base_estimator=DecisionTreeClassifier(),n_estimators=nest), X, y, cv=cv, scoring='accuracy')\n",
        "    print(\"Accuracy: %0.3f [%s]\" % (scores.mean(), nest))\n",
        "    lb.append(scores.mean())\n",
        "\n",
        "lb2=[]    \n",
        "print()\n",
        "for nest in [1,2,5,10,20,50,100,200]:\n",
        "    scores = cross_val_score(BaggingClassifier(base_estimator=DecisionTreeClassifier(),n_estimators=nest,max_features=0.35), X, y, cv=cv, scoring='accuracy')\n",
        "    print(\"Accuracy: %0.3f [%s]\" % (scores.mean(), nest))\n",
        "    lb2.append(scores.mean())"
      ],
      "outputs": [
        {
          "output_type": "stream",
          "name": "stdout",
          "text": [
            "Accuracy: 0.614 [1]\n",
            "Accuracy: 0.604 [2]\n",
            "Accuracy: 0.665 [5]\n",
            "Accuracy: 0.674 [10]\n",
            "Accuracy: 0.690 [20]\n",
            "Accuracy: 0.702 [50]\n",
            "Accuracy: 0.700 [100]\n",
            "Accuracy: 0.705 [200]\n",
            "\n",
            "Accuracy: 0.539 [1]\n",
            "Accuracy: 0.537 [2]\n",
            "Accuracy: 0.597 [5]\n",
            "Accuracy: 0.636 [10]\n",
            "Accuracy: 0.666 [20]\n",
            "Accuracy: 0.678 [50]\n",
            "Accuracy: 0.694 [100]\n",
            "Accuracy: 0.701 [200]\n"
          ]
        }
      ],
      "execution_count": 6,
      "metadata": {}
    },
    {
      "cell_type": "markdown",
      "source": [
        "## Random Forest"
      ],
      "metadata": {}
    },
    {
      "cell_type": "code",
      "source": [
        "from sklearn.ensemble import RandomForestClassifier\n",
        "\n",
        "lrf=[]\n",
        "for nest in [1,2,5,10,20,50,100,200]:\n",
        "    scores = cross_val_score(RandomForestClassifier(n_estimators=nest), X, y, cv=cv, scoring='accuracy')\n",
        "    print(\"Accuracy: %0.3f [%s]\" % (scores.mean(), nest))\n",
        "    lrf.append(scores.mean())"
      ],
      "outputs": [
        {
          "output_type": "stream",
          "name": "stdout",
          "text": [
            "Accuracy: 0.588 [1]\n",
            "Accuracy: 0.585 [2]\n",
            "Accuracy: 0.651 [5]\n",
            "Accuracy: 0.671 [10]\n",
            "Accuracy: 0.683 [20]\n",
            "Accuracy: 0.700 [50]\n",
            "Accuracy: 0.704 [100]\n",
            "Accuracy: 0.705 [200]\n"
          ]
        }
      ],
      "execution_count": 7,
      "metadata": {}
    },
    {
      "cell_type": "code",
      "source": [
        "from sklearn.ensemble import ExtraTreesClassifier\n",
        "\n",
        "lext=[]\n",
        "for nest in [1,2,5,10,20,50,100,200]:\n",
        "    scores = cross_val_score(ExtraTreesClassifier(n_estimators=nest), X, y, cv=cv, scoring='accuracy')\n",
        "    print(\"Accuracy: %0.3f [%s]\" % (scores.mean(), nest))\n",
        "    lext.append(scores.mean())"
      ],
      "outputs": [
        {
          "output_type": "stream",
          "name": "stdout",
          "text": [
            "Accuracy: 0.577 [1]\n",
            "Accuracy: 0.576 [2]\n",
            "Accuracy: 0.634 [5]\n",
            "Accuracy: 0.656 [10]\n",
            "Accuracy: 0.681 [20]\n",
            "Accuracy: 0.693 [50]\n",
            "Accuracy: 0.699 [100]\n",
            "Accuracy: 0.698 [200]\n"
          ]
        }
      ],
      "execution_count": 8,
      "metadata": {}
    },
    {
      "cell_type": "markdown",
      "source": [
        "## Boosting"
      ],
      "metadata": {}
    },
    {
      "cell_type": "code",
      "source": [
        "from sklearn.ensemble import AdaBoostClassifier\n",
        "\n",
        "lboo=[]\n",
        "for nest in [1,2,5,10,20,50,100,200]:\n",
        "    scores = cross_val_score(AdaBoostClassifier(n_estimators=nest), X, y, cv=cv, scoring='accuracy')\n",
        "    print(\"Accuracy: %0.3f [%s]\" % (scores.mean(), nest))\n",
        "    lboo.append(scores.mean())"
      ],
      "outputs": [
        {
          "output_type": "stream",
          "name": "stdout",
          "text": [
            "Accuracy: 0.585 [1]\n",
            "Accuracy: 0.648 [2]\n",
            "Accuracy: 0.658 [5]\n",
            "Accuracy: 0.658 [10]\n",
            "Accuracy: 0.663 [20]\n",
            "Accuracy: 0.671 [50]\n",
            "Accuracy: 0.674 [100]\n",
            "Accuracy: 0.680 [200]\n"
          ]
        }
      ],
      "execution_count": 9,
      "metadata": {}
    },
    {
      "cell_type": "code",
      "source": [
        "from sklearn.ensemble import AdaBoostClassifier\n",
        "\n",
        "lboodt=[]\n",
        "for nest in [1,2,5,10,20,50,100,200]:\n",
        "    scores = cross_val_score(AdaBoostClassifier(DecisionTreeClassifier(max_depth=5),n_estimators=nest), X, y, cv=cv, scoring='accuracy')\n",
        "    print(\"Accuracy: %0.3f [%s]\" % (scores.mean(), nest))\n",
        "    lboodt.append(scores.mean())"
      ],
      "outputs": [
        {
          "output_type": "stream",
          "name": "stdout",
          "text": [
            "Accuracy: 0.684 [1]\n",
            "Accuracy: 0.682 [2]\n",
            "Accuracy: 0.675 [5]\n",
            "Accuracy: 0.662 [10]\n",
            "Accuracy: 0.646 [20]\n",
            "Accuracy: 0.637 [50]\n",
            "Accuracy: 0.638 [100]\n",
            "Accuracy: 0.646 [200]\n"
          ]
        }
      ],
      "execution_count": 10,
      "metadata": {}
    },
    {
      "cell_type": "code",
      "source": [
        "from sklearn.ensemble import GradientBoostingClassifier\n",
        "\n",
        "lgbboo=[]\n",
        "for nest in [1,2,5,10,20,50,100,200]:\n",
        "    scores = cross_val_score(GradientBoostingClassifier(n_estimators=nest), X, y, cv=cv, scoring='accuracy')\n",
        "    print(\"Accuracy: %0.3f [%s]\" % (scores.mean(), nest))\n",
        "    lgbboo.append(scores.mean())"
      ],
      "outputs": [
        {
          "output_type": "stream",
          "name": "stdout",
          "text": [
            "Accuracy: 0.647 [1]\n",
            "Accuracy: 0.673 [2]\n",
            "Accuracy: 0.677 [5]\n",
            "Accuracy: 0.677 [10]\n",
            "Accuracy: 0.683 [20]\n",
            "Accuracy: 0.694 [50]\n",
            "Accuracy: 0.702 [100]\n",
            "Accuracy: 0.705 [200]\n"
          ]
        }
      ],
      "execution_count": 11,
      "metadata": {}
    },
    {
      "cell_type": "code",
      "source": [
        "import  matplotlib.pyplot as plt\n",
        "\n",
        "plt.figure(figsize=(12,6))\n",
        "plt.plot([1,2,5,10,20,50,100,200],lb,label=\"Bagging DT\")\n",
        "plt.plot([1,2,5,10,20,50,100,200],lb2,label=\"Bagging DT forced variance\")\n",
        "plt.plot([1,2,5,10,20,50,100,200],lrf,label=\"Random Forest\")\n",
        "plt.plot([1,2,5,10,20,50,100,200],lext,label=\"Extra Trees\")\n",
        "plt.plot([1,2,5,10,20,50,100,200],lboo,label=\"AdaBoost Dec.Stumps\")\n",
        "plt.plot([1,2,5,10,20,50,100,200],lboodt,label=\"AdaBoost DT\")\n",
        "plt.plot([1,2,5,10,20,50,100,200],lgbboo,label=\"Gradient Boosting\")\n",
        "plt.legend(loc='lower right')\n",
        "\n",
        "plt.show()"
      ],
      "outputs": [
        {
          "output_type": "display_data",
          "data": {
            "text/plain": [
              "<Figure size 1200x600 with 1 Axes>"
            ]
          },
          "metadata": {}
        }
      ],
      "execution_count": 12,
      "metadata": {}
    },
    {
      "cell_type": "code",
      "source": [
        "plt.figure(figsize=(12,6))\n",
        "plt.plot([1,2,5,10,20,50,100,200],lb,label=\"Bagging DT\")\n",
        "plt.plot([1,2,5,10,20,50,100,200],lb2,label=\"Bagging DT forced variance\")\n",
        "plt.plot([1,2,5,10,20,50,100,200],lrf,label=\"Random Forest\")\n",
        "plt.plot([1,2,5,10,20,50,100,200],lext,label=\"Extra Trees\")\n",
        "plt.plot([1,2,5,10,20,50,100,200],lboo,label=\"AdaBoost Dec.Stumps\")\n",
        "plt.plot([1,2,5,10,20,50,100,200],lboodt,label=\"AdaBoost DT\")\n",
        "plt.plot([1,2,5,10,20,50,100,200],lgbboo,label=\"Gradient Boosting\")\n",
        "plt.legend(loc='lower right')\n",
        "plt.xlim(10,200)\n",
        "plt.ylim(0.90,0.96)\n",
        "plt.show()"
      ],
      "outputs": [
        {
          "output_type": "display_data",
          "data": {
            "image/png": "[encoded data removed]",
            "text/plain": [
              "<Figure size 864x432 with 1 Axes>"
            ]
          },
          "metadata": {
            "needs_background": "light"
          }
        }
      ],
      "execution_count": 13,
      "metadata": {}
    },
    {
      "cell_type": "markdown",
      "source": [
        "## Feature Selection with Forests of trees"
      ],
      "metadata": {}
    },
    {
      "cell_type": "code",
      "source": [
        "clf = RandomForestClassifier(n_estimators=100)\n",
        "clf = clf.fit(X, y)\n",
        "print(clf.feature_importances_)  \n"
      ],
      "outputs": [
        {
          "output_type": "stream",
          "name": "stdout",
          "text": [
            "[0.01644333 0.13711314 0.01498897 0.07818543 0.11172071 0.04966293\n",
            " 0.04603915 0.02479212 0.06053607 0.00632967 0.04571201 0.05544841\n",
            " 0.03083831 0.04171013 0.04379872 0.04062309 0.00454789 0.07071494\n",
            " 0.07508605 0.04570892]\n"
          ]
        }
      ],
      "execution_count": 14,
      "metadata": {}
    },
    {
      "cell_type": "code",
      "source": [
        "from sklearn.feature_selection import SelectFromModel\n",
        "\n",
        "model = SelectFromModel(clf, prefit=True, threshold=0.05)\n",
        "X_new = model.transform(X)\n",
        "print(X_new.shape)\n",
        "\n",
        "print(np.mean(cross_val_score(KNeighborsClassifier(), X=X, y=y, cv=cv, scoring='accuracy')))\n",
        "print(np.mean(cross_val_score(KNeighborsClassifier(), X=X_new, y=y, cv=cv, scoring='accuracy')))"
      ],
      "outputs": [
        {
          "output_type": "stream",
          "name": "stdout",
          "text": [
            "(8692, 7)\n",
            "0.6121749980369774\n",
            "0.6427361510259059\n"
          ]
        }
      ],
      "execution_count": 15,
      "metadata": {}
    },
    {
      "cell_type": "code",
      "source": [
        "thresholds=clf.feature_importances_\n",
        "\n",
        "l=[]\n",
        "lparval=[]\n",
        "for threshold in thresholds:\n",
        "    model = SelectFromModel(clf, prefit=True, threshold=threshold)\n",
        "    X_new = model.transform(X)\n",
        "    params = {'n_neighbors':list(range(1,30,2)), 'weights':('distance','uniform')}\n",
        "    knc = KNeighborsClassifier()\n",
        "    clf2 = GridSearchCV(knc, param_grid=params,cv=cv,n_jobs=-1)  # If cv is integer, by default is Stratifyed \n",
        "    clf2.fit(X, y)\n",
        "    parval=clf2.best_params_\n",
        "    clf3 = KNeighborsClassifier(n_neighbors=parval['n_neighbors'],weights=parval['weights'])\n",
        "    acc = np.mean(cross_val_score(clf3, X=X_new, y=y, cv=cv, scoring='accuracy'))\n",
        "    l.append(acc)\n",
        "    lparval.append(parval)\n",
        "    \n",
        "plt.scatter(thresholds,l)\n",
        "plt.show()\n",
        "\n",
        "print('Best threshold: ',thresholds[np.argmax(l)])"
      ],
      "outputs": [],
      "execution_count": null,
      "metadata": {}
    },
    {
      "cell_type": "code",
      "source": [
        "parval=lparval[np.argmax(l)]\n",
        "model = SelectFromModel(clf, prefit=True, threshold=thresholds[np.argmax(l)])\n",
        "X_new = model.transform(X)\n",
        "print(X_new.shape)\n",
        "\n",
        "print('Original: ', np.mean(cross_val_score(KNeighborsClassifier(n_neighbors=1), X=X, y=y, cv=cv, scoring='accuracy')))\n",
        "print('With FS: ', np.mean(cross_val_score(KNeighborsClassifier(n_neighbors=parval['n_neighbors'],weights=parval['weights']), X=X_new, y=y, cv=cv, scoring='accuracy')))"
      ],
      "outputs": [],
      "execution_count": null,
      "metadata": {}
    },
    {
      "cell_type": "code",
      "source": [],
      "outputs": [],
      "execution_count": null,
      "metadata": {}
    }
  ],
  "metadata": {
    "kernelspec": {
      "display_name": "Python 3",
      "language": "python",
      "name": "python3"
    },
    "language_info": {
      "codemirror_mode": {
        "name": "ipython",
        "version": 3
      },
      "file_extension": ".py",
      "mimetype": "text/x-python",
      "name": "python",
      "nbconvert_exporter": "python",
      "pygments_lexer": "ipython3",
      "version": "3.7.3"
    },
    "nteract": {
      "version": "0.15.0"
    }
  },
  "nbformat": 4,
  "nbformat_minor": 2
}