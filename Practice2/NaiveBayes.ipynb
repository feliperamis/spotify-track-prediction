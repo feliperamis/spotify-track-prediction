{
 "cells": [
  {
   "cell_type": "code",
   "execution_count": 46,
   "metadata": {},
   "outputs": [
    {
     "data": {
      "text/plain": [
       "1    4586\n",
       "3    2081\n",
       "2    2025\n",
       "Name: popularity, dtype: int64"
      ]
     },
     "execution_count": 46,
     "metadata": {},
     "output_type": "execute_result"
    }
   ],
   "source": [
    "#WORK IN PROGRESS\n",
    "\n",
    "import matplotlib.pyplot as  plt\n",
    "import pandas as pd\n",
    "import numpy as np\n",
    "\n",
    "\n",
    "import matplotlib.pyplot as plt\n",
    "\n",
    "#Poco popular = Valor 0 = [0, 50]\n",
    "#Popular = Valor 1 = (50, 61]\n",
    "#Muy popular = Valor 2 = (61, 67]\n",
    "#Super popular = Valor 3 = (67, 100]\n",
    "\n",
    "df=pd.read_csv(\"../datasets/SpotifyDataset.csv\",header=None)\n",
    "df.columns = df.iloc[0]\n",
    "df = df.drop(0)\n",
    "df.columns = df.columns.fillna('to_drop')\n",
    "df.drop('to_drop', axis = 1, inplace = True)\n",
    "df.head()\n",
    "df.popularity.value_counts()"
   ]
  },
  {
   "cell_type": "code",
   "execution_count": 2,
   "metadata": {},
   "outputs": [
    {
     "name": "stdout",
     "output_type": "stream",
     "text": [
      "(8692, 20)\n",
      "(8692,)\n"
     ]
    }
   ],
   "source": [
    "X = df.drop(['popularity'],axis=1).values  \n",
    "y = df['popularity'].values\n",
    "print(X.shape)\n",
    "print(y.shape)"
   ]
  },
  {
   "cell_type": "code",
   "execution_count": 32,
   "metadata": {},
   "outputs": [
    {
     "data": {
      "image/png": "[encoded data removed]",
      "text/plain": [
       "<Figure size 432x288 with 1 Axes>"
      ]
     },
     "metadata": {
      "needs_background": "light"
     },
     "output_type": "display_data"
    }
   ],
   "source": [
    "from sklearn.naive_bayes import GaussianNB\n",
    "from sklearn.model_selection import StratifiedKFold\n",
    "from sklearn.model_selection import cross_val_score, train_test_split\n",
    "import sklearn.neighbors as nb\n",
    "\n",
    "cv = StratifiedKFold(n_splits=10, random_state=1) \n",
    "\n",
    "gnb = GaussianNB()\n",
    "cv_scores = cross_val_score(gnb,X=X,y=y,cv=cv)\n",
    "np.mean(cv_scores)\n",
    "plt.plot(cv_scores,\"bo\")\n",
    "plt.title('Naive Bayes 10 cross validation accuracy scores')\n",
    "plt.ylabel('Accuracy')\n",
    "plt.xlabel('Splits')\n",
    "plt.grid(True)"
   ]
  },
  {
   "cell_type": "code",
   "execution_count": 33,
   "metadata": {},
   "outputs": [
    {
     "name": "stdout",
     "output_type": "stream",
     "text": [
      "[[4512    0   74]\n",
      " [1931    0   94]\n",
      " [1744    0  337]]\n",
      "0.5578693051081455\n"
     ]
    }
   ],
   "source": [
    "from sklearn.model_selection import cross_val_predict  \n",
    "from sklearn.metrics import accuracy_score\n",
    "from sklearn.metrics import confusion_matrix\n",
    "\n",
    "predicted = cross_val_predict(GaussianNB(), X=X, y=y,  cv=cv)\n",
    "\n",
    "print(confusion_matrix(y, predicted))\n",
    "print(accuracy_score(y, predicted))"
   ]
  }
 ],
 "metadata": {
  "kernelspec": {
   "display_name": "Python 3",
   "language": "python",
   "name": "python3"
  },
  "language_info": {
   "codemirror_mode": {
    "name": "ipython",
    "version": 3
   },
   "file_extension": ".py",
   "mimetype": "text/x-python",
   "name": "python",
   "nbconvert_exporter": "python",
   "pygments_lexer": "ipython3",
   "version": "3.7.3"
  }
 },
 "nbformat": 4,
 "nbformat_minor": 2
}
