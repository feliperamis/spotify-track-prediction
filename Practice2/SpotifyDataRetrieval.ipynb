{
 "cells": [
  {
   "cell_type": "markdown",
   "metadata": {},
   "source": [
    "# Collecting Data from the Spotify Web API using Spotipy\n",
    "\n",
    "## About the Spotipy Library:\n",
    "\n",
    "From the [official Spotipy docs](https://spotipy.readthedocs.io/en/latest/): \n",
    ">\"Spotipy is a lightweight Python library for the Spotify Web API. With Spotipy you get full access to all of the music data provided by the Spotify platform.\"\n",
    "\n",
    "\n",
    "## About using the Spotify Web API:\n",
    "\n",
    "Spotify offers a number of [API endpoints](https://beta.developer.spotify.com/documentation/web-api/reference/) to access the Spotify data. In this notebook, I used the following:\n",
    "\n",
    "- [search endpoint](https://beta.developer.spotify.com/documentation/web-api/reference/search/search/) to get the track IDs \n",
    "- [audio features endpoint](https://beta.developer.spotify.com/documentation/web-api/reference/tracks/get-several-audio-features/) to get the corresponding audio features.\n",
    "\n",
    "The data was collected on several days during the months of April, May and August 2018.\n",
    "\n",
    "\n",
    "## Goal of this notebook:\n",
    "\n",
    "The goal is to show how to collect audio features data for tracks from the [official Spotify Web API](https://beta.developer.spotify.com/documentation/web-api/) in order to use it for further analysis/ machine learning which will be part of another notebook."
   ]
  },
  {
   "cell_type": "markdown",
   "metadata": {},
   "source": [
    "# 1. Setting Up\n",
    "\n",
    "The below code is sufficient to set up Spotipy for querying the API endpoint. A more detailed explanation of the whole procedure is available in the [official docs](https://spotipy.readthedocs.io/en/latest/#installation)."
   ]
  },
  {
   "cell_type": "code",
   "execution_count": 1,
   "metadata": {},
   "outputs": [],
   "source": [
    "import spotipy\n",
    "from spotipy.oauth2 import SpotifyClientCredentials\n",
    "\n",
    "cid =\"0e41aa39d3bd452483da14e94524ce0f\" \n",
    "secret = \"6dd5e5ff0a6f4eac9f7ba9efc4312606\"\n",
    "\n",
    "client_credentials_manager = SpotifyClientCredentials(client_id=cid, client_secret=secret)\n",
    "sp = spotipy.Spotify(client_credentials_manager=client_credentials_manager)"
   ]
  },
  {
   "cell_type": "markdown",
   "metadata": {},
   "source": [
    "# 2. Get the Track ID Data\n",
    "\n",
    "The data collection is divided into 2 parts: the track IDs and the audio features. In this step, I'm going to collect 10.000 track IDs from the Spotify API.\n",
    "\n",
    "The [search endpoint](https://beta.developer.spotify.com/documentation/web-api/reference/search/search/) used in this step had a few limitations:\n",
    "\n",
    "- limit: a maximum of 50 results can be returned per query\n",
    "- offset: this is the index of the first result to return, so if you want to get the results with the index 50-100 you will need to set the offset to 50 etc.\n",
    "\n",
    "Spotify cut down the maximum offset to 10.000 (as of May 2018?), I was lucky enough to do my first collection attempt while it was still 100.000\n",
    "\n",
    "My solution: using a nested for loop, I increased the offset by 50 in the outer loop until the maxium limit/ offset was reached. The inner for loop did the actual querying and appending the returned results to appropriate lists which I used afterwards to create my dataframe."
   ]
  },
  {
   "cell_type": "code",
   "execution_count": 2,
   "metadata": {},
   "outputs": [
    {
     "name": "stdout",
     "output_type": "stream",
     "text": [
      "Time to run this code (in seconds): 2385.7224082850007\n"
     ]
    }
   ],
   "source": [
    "import datetime\n",
    "# timeit library to measure the time needed to run this code\n",
    "import timeit\n",
    "start = timeit.default_timer()\n",
    "\n",
    "# create empty lists where the results are going to be stored\n",
    "artist_name = []\n",
    "track_name = []\n",
    "popularity = []\n",
    "track_id = []\n",
    "num_artists = []\n",
    "explicit = []\n",
    "release_month = []\n",
    "release_weekday = []\n",
    "artist_followers = []\n",
    "artist_popularity = []\n",
    "\n",
    "for i in range(0,10000,50):\n",
    "    track_results = sp.search(q='year:2019', type='track', limit=50,offset=i)\n",
    "    for i, t in enumerate(track_results['tracks']['items']):\n",
    "        artist_name.append(t['artists'][0]['name'])\n",
    "        artist = sp.artist(t['artists'][0]['id'])\n",
    "        artist_followers.append(artist['followers']['total'])\n",
    "        artist_popularity.append(artist['popularity'])\n",
    "        track_name.append(t['name'])\n",
    "        track_id.append(t['id'])\n",
    "        popularity.append(t['popularity'])\n",
    "        num_artists.append(len(t['artists']))\n",
    "        explicit.append(t['explicit'])\n",
    "        date = datetime.datetime.strptime(t['album']['release_date'], '%Y-%m-%d')\n",
    "        release_month.append(date.month)\n",
    "        release_weekday.append(date.isoweekday())\n",
    "        \n",
    "      \n",
    "\n",
    "stop = timeit.default_timer()\n",
    "print ('Time to run this code (in seconds):', stop - start)"
   ]
  },
  {
   "cell_type": "markdown",
   "metadata": {},
   "source": [
    "# 3. EDA + Data Preparation\n",
    "\n",
    "In the next few cells, I'm going to do some exploratory data analysis as well as data preparation of the newly gained data.\n",
    "\n",
    "A quick check for the track_id list:"
   ]
  },
  {
   "cell_type": "code",
   "execution_count": 3,
   "metadata": {},
   "outputs": [
    {
     "name": "stdout",
     "output_type": "stream",
     "text": [
      "number of elements in the track_id list: 10000\n"
     ]
    }
   ],
   "source": [
    "print('number of elements in the track_id list:', len(track_id))"
   ]
  },
  {
   "cell_type": "markdown",
   "metadata": {},
   "source": [
    "Looks good. Now loading the lists in a dataframe."
   ]
  },
  {
   "cell_type": "code",
   "execution_count": 5,
   "metadata": {},
   "outputs": [
    {
     "name": "stdout",
     "output_type": "stream",
     "text": [
      "(10000, 9)\n"
     ]
    },
    {
     "data": {
      "text/html": [
       "<div>\n",
       "<style scoped>\n",
       "    .dataframe tbody tr th:only-of-type {\n",
       "        vertical-align: middle;\n",
       "    }\n",
       "\n",
       "    .dataframe tbody tr th {\n",
       "        vertical-align: top;\n",
       "    }\n",
       "\n",
       "    .dataframe thead th {\n",
       "        text-align: right;\n",
       "    }\n",
       "</style>\n",
       "<table border=\"1\" class=\"dataframe\">\n",
       "  <thead>\n",
       "    <tr style=\"text-align: right;\">\n",
       "      <th></th>\n",
       "      <th>artist_name</th>\n",
       "      <th>track_name</th>\n",
       "      <th>track_id</th>\n",
       "      <th>popularity</th>\n",
       "      <th>num_artists</th>\n",
       "      <th>release_month</th>\n",
       "      <th>release_weekday</th>\n",
       "      <th>artist_followers</th>\n",
       "      <th>artist_popularity</th>\n",
       "    </tr>\n",
       "  </thead>\n",
       "  <tbody>\n",
       "    <tr>\n",
       "      <td>0</td>\n",
       "      <td>Post Malone</td>\n",
       "      <td>Circles</td>\n",
       "      <td>21jGcNKet2qwijlDFuPiPb</td>\n",
       "      <td>99</td>\n",
       "      <td>1</td>\n",
       "      <td>9</td>\n",
       "      <td>5</td>\n",
       "      <td>19671232</td>\n",
       "      <td>100</td>\n",
       "    </tr>\n",
       "    <tr>\n",
       "      <td>1</td>\n",
       "      <td>Travis Scott</td>\n",
       "      <td>HIGHEST IN THE ROOM</td>\n",
       "      <td>3eekarcy7kvN4yt5ZFzltW</td>\n",
       "      <td>98</td>\n",
       "      <td>1</td>\n",
       "      <td>10</td>\n",
       "      <td>5</td>\n",
       "      <td>7153061</td>\n",
       "      <td>97</td>\n",
       "    </tr>\n",
       "    <tr>\n",
       "      <td>2</td>\n",
       "      <td>Juice WRLD</td>\n",
       "      <td>Bandit (with YoungBoy Never Broke Again)</td>\n",
       "      <td>6Gg1gjgKi2AK4e0qzsR7sd</td>\n",
       "      <td>94</td>\n",
       "      <td>2</td>\n",
       "      <td>10</td>\n",
       "      <td>5</td>\n",
       "      <td>6183091</td>\n",
       "      <td>94</td>\n",
       "    </tr>\n",
       "    <tr>\n",
       "      <td>3</td>\n",
       "      <td>Selena Gomez</td>\n",
       "      <td>Lose You To Love Me</td>\n",
       "      <td>1HfMVBKM75vxSfsQ5VefZ5</td>\n",
       "      <td>99</td>\n",
       "      <td>1</td>\n",
       "      <td>10</td>\n",
       "      <td>3</td>\n",
       "      <td>17952498</td>\n",
       "      <td>93</td>\n",
       "    </tr>\n",
       "    <tr>\n",
       "      <td>4</td>\n",
       "      <td>blackbear</td>\n",
       "      <td>hot girl bummer</td>\n",
       "      <td>7aiClxsDWFRQ0Kzk5KI5ku</td>\n",
       "      <td>97</td>\n",
       "      <td>1</td>\n",
       "      <td>8</td>\n",
       "      <td>5</td>\n",
       "      <td>2549258</td>\n",
       "      <td>89</td>\n",
       "    </tr>\n",
       "  </tbody>\n",
       "</table>\n",
       "</div>"
      ],
      "text/plain": [
       "    artist_name                                track_name  \\\n",
       "0   Post Malone                                   Circles   \n",
       "1  Travis Scott                       HIGHEST IN THE ROOM   \n",
       "2    Juice WRLD  Bandit (with YoungBoy Never Broke Again)   \n",
       "3  Selena Gomez                       Lose You To Love Me   \n",
       "4     blackbear                           hot girl bummer   \n",
       "\n",
       "                 track_id  popularity  num_artists  release_month  \\\n",
       "0  21jGcNKet2qwijlDFuPiPb          99            1              9   \n",
       "1  3eekarcy7kvN4yt5ZFzltW          98            1             10   \n",
       "2  6Gg1gjgKi2AK4e0qzsR7sd          94            2             10   \n",
       "3  1HfMVBKM75vxSfsQ5VefZ5          99            1             10   \n",
       "4  7aiClxsDWFRQ0Kzk5KI5ku          97            1              8   \n",
       "\n",
       "   release_weekday  artist_followers  artist_popularity  \n",
       "0                5          19671232                100  \n",
       "1                5           7153061                 97  \n",
       "2                5           6183091                 94  \n",
       "3                3          17952498                 93  \n",
       "4                5           2549258                 89  "
      ]
     },
     "execution_count": 5,
     "metadata": {},
     "output_type": "execute_result"
    }
   ],
   "source": [
    "import pandas as pd\n",
    "\n",
    "df_tracks = pd.DataFrame({'artist_name':artist_name,'track_name':track_name,'track_id':track_id,'popularity':popularity, 'num_artists': num_artists, 'release_month': release_month, 'release_weekday': release_weekday,  'artist_followers' : artist_followers, 'artist_popularity': artist_popularity})\n",
    "print(df_tracks.shape)\n",
    "df_tracks.head()"
   ]
  },
  {
   "cell_type": "code",
   "execution_count": 6,
   "metadata": {},
   "outputs": [
    {
     "name": "stdout",
     "output_type": "stream",
     "text": [
      "<class 'pandas.core.frame.DataFrame'>\n",
      "RangeIndex: 10000 entries, 0 to 9999\n",
      "Data columns (total 9 columns):\n",
      "artist_name          10000 non-null object\n",
      "track_name           10000 non-null object\n",
      "track_id             10000 non-null object\n",
      "popularity           10000 non-null int64\n",
      "num_artists          10000 non-null int64\n",
      "release_month        10000 non-null int64\n",
      "release_weekday      10000 non-null int64\n",
      "artist_followers     10000 non-null int64\n",
      "artist_popularity    10000 non-null int64\n",
      "dtypes: int64(6), object(3)\n",
      "memory usage: 703.2+ KB\n"
     ]
    }
   ],
   "source": [
    "df_tracks.info()"
   ]
  },
  {
   "cell_type": "markdown",
   "metadata": {},
   "source": [
    "Sometimes, the same track is returned under different track IDs (single, as part of an album etc.).\n",
    "\n",
    "This needs to be checked for and corrected if needed."
   ]
  },
  {
   "cell_type": "code",
   "execution_count": 7,
   "metadata": {},
   "outputs": [
    {
     "data": {
      "text/plain": [
       "515"
      ]
     },
     "execution_count": 7,
     "metadata": {},
     "output_type": "execute_result"
    }
   ],
   "source": [
    "# group the entries by artist_name and track_name and check for duplicates\n",
    "\n",
    "grouped = df_tracks.groupby(['artist_name','track_name'], as_index=True).size()\n",
    "grouped[grouped > 1].count()"
   ]
  },
  {
   "cell_type": "markdown",
   "metadata": {},
   "source": [
    "There are 524 duplicate entries which will be dropped in the next cell:"
   ]
  },
  {
   "cell_type": "code",
   "execution_count": 8,
   "metadata": {},
   "outputs": [],
   "source": [
    "df_tracks.drop_duplicates(subset=['artist_name','track_name'], inplace=True)"
   ]
  },
  {
   "cell_type": "code",
   "execution_count": 9,
   "metadata": {},
   "outputs": [
    {
     "data": {
      "text/plain": [
       "0"
      ]
     },
     "execution_count": 9,
     "metadata": {},
     "output_type": "execute_result"
    }
   ],
   "source": [
    "# doing the same grouping as before to verify the solution\n",
    "grouped_after_dropping = df_tracks.groupby(['artist_name','track_name'], as_index=True).size()\n",
    "grouped_after_dropping[grouped_after_dropping > 1].count()"
   ]
  },
  {
   "cell_type": "markdown",
   "metadata": {},
   "source": [
    "This time the results are empty. Another way of checking this:"
   ]
  },
  {
   "cell_type": "code",
   "execution_count": 10,
   "metadata": {},
   "outputs": [
    {
     "data": {
      "text/plain": [
       "artist_name          0\n",
       "track_name           0\n",
       "track_id             0\n",
       "popularity           0\n",
       "num_artists          0\n",
       "release_month        0\n",
       "release_weekday      0\n",
       "artist_followers     0\n",
       "artist_popularity    0\n",
       "dtype: int64"
      ]
     },
     "execution_count": 10,
     "metadata": {},
     "output_type": "execute_result"
    }
   ],
   "source": [
    "df_tracks[df_tracks.duplicated(subset=['artist_name','track_name'],keep=False)].count()"
   ]
  },
  {
   "cell_type": "markdown",
   "metadata": {},
   "source": [
    "Checking how many tracks are left now:"
   ]
  },
  {
   "cell_type": "code",
   "execution_count": 11,
   "metadata": {},
   "outputs": [
    {
     "data": {
      "text/plain": [
       "(9428, 9)"
      ]
     },
     "execution_count": 11,
     "metadata": {},
     "output_type": "execute_result"
    }
   ],
   "source": [
    "df_tracks.shape"
   ]
  },
  {
   "cell_type": "markdown",
   "metadata": {},
   "source": [
    "# 4: Get the Audio Features\n",
    "\n",
    "With the [audio features endpoint](https://beta.developer.spotify.com/documentation/web-api/reference/tracks/get-several-audio-features/) I will now get the audio features data for my 9460 track IDs.\n",
    "\n",
    "The limitation for this endpoint is that a maximum of 100 track IDs can be submitted per query.\n",
    "\n",
    "Again, I used a nested for loop. This time the outer loop was pulling track IDs in batches of size 100 and the inner for loop was doing the query and appending the results to the rows list.\n",
    "\n",
    "Additionaly, I had to implement a check when a track ID didn't return any audio features (i.e. None was returned) as this was causing issues."
   ]
  },
  {
   "cell_type": "code",
   "execution_count": 13,
   "metadata": {},
   "outputs": [
    {
     "name": "stdout",
     "output_type": "stream",
     "text": [
      "Number of tracks where no audio features were available: 736\n",
      "Time to run this code (in seconds): 15.215694664002513\n"
     ]
    }
   ],
   "source": [
    "# again measuring the time\n",
    "start = timeit.default_timer()\n",
    "\n",
    "# empty list, batchsize and the counter for None results\n",
    "rows = []\n",
    "batchsize = 100\n",
    "None_counter = 0\n",
    "\n",
    "for i in range(0,len(df_tracks['track_id']),batchsize):\n",
    "    batch = df_tracks['track_id'][i:i+batchsize]\n",
    "    feature_results = sp.audio_features(batch)\n",
    "    for i, t in enumerate(feature_results):\n",
    "        if t == None:\n",
    "            None_counter = None_counter + 1\n",
    "        else:\n",
    "            rows.append(t)\n",
    "            \n",
    "print('Number of tracks where no audio features were available:',None_counter)\n",
    "\n",
    "stop = timeit.default_timer()\n",
    "print ('Time to run this code (in seconds):',stop - start)"
   ]
  },
  {
   "cell_type": "markdown",
   "metadata": {},
   "source": [
    "# 5. EDA + Data Preparation\n",
    "\n",
    "Same as with the first dataset, checking how the rows list looks like:"
   ]
  },
  {
   "cell_type": "code",
   "execution_count": 14,
   "metadata": {},
   "outputs": [
    {
     "name": "stdout",
     "output_type": "stream",
     "text": [
      "number of elements in the track_id list: 8692\n"
     ]
    }
   ],
   "source": [
    "print('number of elements in the track_id list:', len(rows))"
   ]
  },
  {
   "cell_type": "markdown",
   "metadata": {},
   "source": [
    "Finally, I will load the audio features in a dataframe."
   ]
  },
  {
   "cell_type": "code",
   "execution_count": 15,
   "metadata": {},
   "outputs": [
    {
     "name": "stdout",
     "output_type": "stream",
     "text": [
      "Shape of the dataset: (8692, 18)\n"
     ]
    },
    {
     "data": {
      "text/html": [
       "<div>\n",
       "<style scoped>\n",
       "    .dataframe tbody tr th:only-of-type {\n",
       "        vertical-align: middle;\n",
       "    }\n",
       "\n",
       "    .dataframe tbody tr th {\n",
       "        vertical-align: top;\n",
       "    }\n",
       "\n",
       "    .dataframe thead th {\n",
       "        text-align: right;\n",
       "    }\n",
       "</style>\n",
       "<table border=\"1\" class=\"dataframe\">\n",
       "  <thead>\n",
       "    <tr style=\"text-align: right;\">\n",
       "      <th></th>\n",
       "      <th>danceability</th>\n",
       "      <th>energy</th>\n",
       "      <th>key</th>\n",
       "      <th>loudness</th>\n",
       "      <th>mode</th>\n",
       "      <th>speechiness</th>\n",
       "      <th>acousticness</th>\n",
       "      <th>instrumentalness</th>\n",
       "      <th>liveness</th>\n",
       "      <th>valence</th>\n",
       "      <th>tempo</th>\n",
       "      <th>type</th>\n",
       "      <th>id</th>\n",
       "      <th>uri</th>\n",
       "      <th>track_href</th>\n",
       "      <th>analysis_url</th>\n",
       "      <th>duration_ms</th>\n",
       "      <th>time_signature</th>\n",
       "    </tr>\n",
       "  </thead>\n",
       "  <tbody>\n",
       "    <tr>\n",
       "      <td>0</td>\n",
       "      <td>0.695</td>\n",
       "      <td>0.762</td>\n",
       "      <td>0</td>\n",
       "      <td>-3.497</td>\n",
       "      <td>1</td>\n",
       "      <td>0.0395</td>\n",
       "      <td>0.1920</td>\n",
       "      <td>0.002440</td>\n",
       "      <td>0.0863</td>\n",
       "      <td>0.5530</td>\n",
       "      <td>120.042</td>\n",
       "      <td>audio_features</td>\n",
       "      <td>21jGcNKet2qwijlDFuPiPb</td>\n",
       "      <td>spotify:track:21jGcNKet2qwijlDFuPiPb</td>\n",
       "      <td>https://api.spotify.com/v1/tracks/21jGcNKet2qw...</td>\n",
       "      <td>https://api.spotify.com/v1/audio-analysis/21jG...</td>\n",
       "      <td>215280</td>\n",
       "      <td>4</td>\n",
       "    </tr>\n",
       "    <tr>\n",
       "      <td>1</td>\n",
       "      <td>0.598</td>\n",
       "      <td>0.427</td>\n",
       "      <td>7</td>\n",
       "      <td>-8.764</td>\n",
       "      <td>0</td>\n",
       "      <td>0.0317</td>\n",
       "      <td>0.0546</td>\n",
       "      <td>0.000006</td>\n",
       "      <td>0.2100</td>\n",
       "      <td>0.0605</td>\n",
       "      <td>76.469</td>\n",
       "      <td>audio_features</td>\n",
       "      <td>3eekarcy7kvN4yt5ZFzltW</td>\n",
       "      <td>spotify:track:3eekarcy7kvN4yt5ZFzltW</td>\n",
       "      <td>https://api.spotify.com/v1/tracks/3eekarcy7kvN...</td>\n",
       "      <td>https://api.spotify.com/v1/audio-analysis/3eek...</td>\n",
       "      <td>175721</td>\n",
       "      <td>4</td>\n",
       "    </tr>\n",
       "    <tr>\n",
       "      <td>2</td>\n",
       "      <td>0.474</td>\n",
       "      <td>0.631</td>\n",
       "      <td>5</td>\n",
       "      <td>-5.884</td>\n",
       "      <td>0</td>\n",
       "      <td>0.3430</td>\n",
       "      <td>0.0687</td>\n",
       "      <td>0.000000</td>\n",
       "      <td>0.1320</td>\n",
       "      <td>0.4250</td>\n",
       "      <td>180.051</td>\n",
       "      <td>audio_features</td>\n",
       "      <td>6Gg1gjgKi2AK4e0qzsR7sd</td>\n",
       "      <td>spotify:track:6Gg1gjgKi2AK4e0qzsR7sd</td>\n",
       "      <td>https://api.spotify.com/v1/tracks/6Gg1gjgKi2AK...</td>\n",
       "      <td>https://api.spotify.com/v1/audio-analysis/6Gg1...</td>\n",
       "      <td>189323</td>\n",
       "      <td>4</td>\n",
       "    </tr>\n",
       "    <tr>\n",
       "      <td>3</td>\n",
       "      <td>0.505</td>\n",
       "      <td>0.340</td>\n",
       "      <td>4</td>\n",
       "      <td>-9.005</td>\n",
       "      <td>1</td>\n",
       "      <td>0.0438</td>\n",
       "      <td>0.5760</td>\n",
       "      <td>0.000000</td>\n",
       "      <td>0.2100</td>\n",
       "      <td>0.0916</td>\n",
       "      <td>101.993</td>\n",
       "      <td>audio_features</td>\n",
       "      <td>1HfMVBKM75vxSfsQ5VefZ5</td>\n",
       "      <td>spotify:track:1HfMVBKM75vxSfsQ5VefZ5</td>\n",
       "      <td>https://api.spotify.com/v1/tracks/1HfMVBKM75vx...</td>\n",
       "      <td>https://api.spotify.com/v1/audio-analysis/1HfM...</td>\n",
       "      <td>206459</td>\n",
       "      <td>4</td>\n",
       "    </tr>\n",
       "    <tr>\n",
       "      <td>4</td>\n",
       "      <td>0.778</td>\n",
       "      <td>0.559</td>\n",
       "      <td>6</td>\n",
       "      <td>-7.109</td>\n",
       "      <td>0</td>\n",
       "      <td>0.0776</td>\n",
       "      <td>0.1280</td>\n",
       "      <td>0.000000</td>\n",
       "      <td>0.3990</td>\n",
       "      <td>0.6780</td>\n",
       "      <td>129.989</td>\n",
       "      <td>audio_features</td>\n",
       "      <td>7aiClxsDWFRQ0Kzk5KI5ku</td>\n",
       "      <td>spotify:track:7aiClxsDWFRQ0Kzk5KI5ku</td>\n",
       "      <td>https://api.spotify.com/v1/tracks/7aiClxsDWFRQ...</td>\n",
       "      <td>https://api.spotify.com/v1/audio-analysis/7aiC...</td>\n",
       "      <td>185093</td>\n",
       "      <td>1</td>\n",
       "    </tr>\n",
       "  </tbody>\n",
       "</table>\n",
       "</div>"
      ],
      "text/plain": [
       "   danceability  energy  key  loudness  mode  speechiness  acousticness  \\\n",
       "0         0.695   0.762    0    -3.497     1       0.0395        0.1920   \n",
       "1         0.598   0.427    7    -8.764     0       0.0317        0.0546   \n",
       "2         0.474   0.631    5    -5.884     0       0.3430        0.0687   \n",
       "3         0.505   0.340    4    -9.005     1       0.0438        0.5760   \n",
       "4         0.778   0.559    6    -7.109     0       0.0776        0.1280   \n",
       "\n",
       "   instrumentalness  liveness  valence    tempo            type  \\\n",
       "0          0.002440    0.0863   0.5530  120.042  audio_features   \n",
       "1          0.000006    0.2100   0.0605   76.469  audio_features   \n",
       "2          0.000000    0.1320   0.4250  180.051  audio_features   \n",
       "3          0.000000    0.2100   0.0916  101.993  audio_features   \n",
       "4          0.000000    0.3990   0.6780  129.989  audio_features   \n",
       "\n",
       "                       id                                   uri  \\\n",
       "0  21jGcNKet2qwijlDFuPiPb  spotify:track:21jGcNKet2qwijlDFuPiPb   \n",
       "1  3eekarcy7kvN4yt5ZFzltW  spotify:track:3eekarcy7kvN4yt5ZFzltW   \n",
       "2  6Gg1gjgKi2AK4e0qzsR7sd  spotify:track:6Gg1gjgKi2AK4e0qzsR7sd   \n",
       "3  1HfMVBKM75vxSfsQ5VefZ5  spotify:track:1HfMVBKM75vxSfsQ5VefZ5   \n",
       "4  7aiClxsDWFRQ0Kzk5KI5ku  spotify:track:7aiClxsDWFRQ0Kzk5KI5ku   \n",
       "\n",
       "                                          track_href  \\\n",
       "0  https://api.spotify.com/v1/tracks/21jGcNKet2qw...   \n",
       "1  https://api.spotify.com/v1/tracks/3eekarcy7kvN...   \n",
       "2  https://api.spotify.com/v1/tracks/6Gg1gjgKi2AK...   \n",
       "3  https://api.spotify.com/v1/tracks/1HfMVBKM75vx...   \n",
       "4  https://api.spotify.com/v1/tracks/7aiClxsDWFRQ...   \n",
       "\n",
       "                                        analysis_url  duration_ms  \\\n",
       "0  https://api.spotify.com/v1/audio-analysis/21jG...       215280   \n",
       "1  https://api.spotify.com/v1/audio-analysis/3eek...       175721   \n",
       "2  https://api.spotify.com/v1/audio-analysis/6Gg1...       189323   \n",
       "3  https://api.spotify.com/v1/audio-analysis/1HfM...       206459   \n",
       "4  https://api.spotify.com/v1/audio-analysis/7aiC...       185093   \n",
       "\n",
       "   time_signature  \n",
       "0               4  \n",
       "1               4  \n",
       "2               4  \n",
       "3               4  \n",
       "4               1  "
      ]
     },
     "execution_count": 15,
     "metadata": {},
     "output_type": "execute_result"
    }
   ],
   "source": [
    "df_audio_features = pd.DataFrame.from_dict(rows,orient='columns')\n",
    "print(\"Shape of the dataset:\", df_audio_features.shape)\n",
    "df_audio_features.head()"
   ]
  },
  {
   "cell_type": "code",
   "execution_count": 16,
   "metadata": {},
   "outputs": [
    {
     "name": "stdout",
     "output_type": "stream",
     "text": [
      "<class 'pandas.core.frame.DataFrame'>\n",
      "RangeIndex: 8692 entries, 0 to 8691\n",
      "Data columns (total 18 columns):\n",
      "danceability        8692 non-null float64\n",
      "energy              8692 non-null float64\n",
      "key                 8692 non-null int64\n",
      "loudness            8692 non-null float64\n",
      "mode                8692 non-null int64\n",
      "speechiness         8692 non-null float64\n",
      "acousticness        8692 non-null float64\n",
      "instrumentalness    8692 non-null float64\n",
      "liveness            8692 non-null float64\n",
      "valence             8692 non-null float64\n",
      "tempo               8692 non-null float64\n",
      "type                8692 non-null object\n",
      "id                  8692 non-null object\n",
      "uri                 8692 non-null object\n",
      "track_href          8692 non-null object\n",
      "analysis_url        8692 non-null object\n",
      "duration_ms         8692 non-null int64\n",
      "time_signature      8692 non-null int64\n",
      "dtypes: float64(9), int64(4), object(5)\n",
      "memory usage: 1.2+ MB\n"
     ]
    }
   ],
   "source": [
    "df_audio_features.info()"
   ]
  },
  {
   "cell_type": "markdown",
   "metadata": {},
   "source": [
    "Some columns are not needed for the analysis so I will drop them.\n",
    "\n",
    "Also the ID column will be renamed to track_id so that it matches the column name from the first dataframe."
   ]
  },
  {
   "cell_type": "code",
   "execution_count": 17,
   "metadata": {},
   "outputs": [
    {
     "data": {
      "text/plain": [
       "(8692, 14)"
      ]
     },
     "execution_count": 17,
     "metadata": {},
     "output_type": "execute_result"
    }
   ],
   "source": [
    "columns_to_drop = ['analysis_url','track_href','type','uri']\n",
    "df_audio_features.drop(columns_to_drop, axis=1,inplace=True)\n",
    "\n",
    "df_audio_features.rename(columns={'id': 'track_id'}, inplace=True)\n",
    "\n",
    "df_audio_features.shape"
   ]
  },
  {
   "cell_type": "code",
   "execution_count": 18,
   "metadata": {},
   "outputs": [
    {
     "name": "stdout",
     "output_type": "stream",
     "text": [
      "Shape of the dataset: (8692, 14)\n"
     ]
    },
    {
     "data": {
      "text/html": [
       "<div>\n",
       "<style scoped>\n",
       "    .dataframe tbody tr th:only-of-type {\n",
       "        vertical-align: middle;\n",
       "    }\n",
       "\n",
       "    .dataframe tbody tr th {\n",
       "        vertical-align: top;\n",
       "    }\n",
       "\n",
       "    .dataframe thead th {\n",
       "        text-align: right;\n",
       "    }\n",
       "</style>\n",
       "<table border=\"1\" class=\"dataframe\">\n",
       "  <thead>\n",
       "    <tr style=\"text-align: right;\">\n",
       "      <th></th>\n",
       "      <th>artist_name</th>\n",
       "      <th>track_name</th>\n",
       "      <th>track_id</th>\n",
       "      <th>popularity</th>\n",
       "      <th>num_artists</th>\n",
       "      <th>release_month</th>\n",
       "      <th>release_weekday</th>\n",
       "      <th>artist_followers</th>\n",
       "      <th>artist_popularity</th>\n",
       "      <th>danceability</th>\n",
       "      <th>...</th>\n",
       "      <th>loudness</th>\n",
       "      <th>mode</th>\n",
       "      <th>speechiness</th>\n",
       "      <th>acousticness</th>\n",
       "      <th>instrumentalness</th>\n",
       "      <th>liveness</th>\n",
       "      <th>valence</th>\n",
       "      <th>tempo</th>\n",
       "      <th>duration_ms</th>\n",
       "      <th>time_signature</th>\n",
       "    </tr>\n",
       "  </thead>\n",
       "  <tbody>\n",
       "    <tr>\n",
       "      <td>0</td>\n",
       "      <td>Post Malone</td>\n",
       "      <td>Circles</td>\n",
       "      <td>21jGcNKet2qwijlDFuPiPb</td>\n",
       "      <td>99</td>\n",
       "      <td>1</td>\n",
       "      <td>9</td>\n",
       "      <td>5</td>\n",
       "      <td>19671232</td>\n",
       "      <td>100</td>\n",
       "      <td>0.695</td>\n",
       "      <td>...</td>\n",
       "      <td>-3.497</td>\n",
       "      <td>1</td>\n",
       "      <td>0.0395</td>\n",
       "      <td>0.1920</td>\n",
       "      <td>0.002440</td>\n",
       "      <td>0.0863</td>\n",
       "      <td>0.5530</td>\n",
       "      <td>120.042</td>\n",
       "      <td>215280</td>\n",
       "      <td>4</td>\n",
       "    </tr>\n",
       "    <tr>\n",
       "      <td>1</td>\n",
       "      <td>Travis Scott</td>\n",
       "      <td>HIGHEST IN THE ROOM</td>\n",
       "      <td>3eekarcy7kvN4yt5ZFzltW</td>\n",
       "      <td>98</td>\n",
       "      <td>1</td>\n",
       "      <td>10</td>\n",
       "      <td>5</td>\n",
       "      <td>7153061</td>\n",
       "      <td>97</td>\n",
       "      <td>0.598</td>\n",
       "      <td>...</td>\n",
       "      <td>-8.764</td>\n",
       "      <td>0</td>\n",
       "      <td>0.0317</td>\n",
       "      <td>0.0546</td>\n",
       "      <td>0.000006</td>\n",
       "      <td>0.2100</td>\n",
       "      <td>0.0605</td>\n",
       "      <td>76.469</td>\n",
       "      <td>175721</td>\n",
       "      <td>4</td>\n",
       "    </tr>\n",
       "    <tr>\n",
       "      <td>2</td>\n",
       "      <td>Juice WRLD</td>\n",
       "      <td>Bandit (with YoungBoy Never Broke Again)</td>\n",
       "      <td>6Gg1gjgKi2AK4e0qzsR7sd</td>\n",
       "      <td>94</td>\n",
       "      <td>2</td>\n",
       "      <td>10</td>\n",
       "      <td>5</td>\n",
       "      <td>6183091</td>\n",
       "      <td>94</td>\n",
       "      <td>0.474</td>\n",
       "      <td>...</td>\n",
       "      <td>-5.884</td>\n",
       "      <td>0</td>\n",
       "      <td>0.3430</td>\n",
       "      <td>0.0687</td>\n",
       "      <td>0.000000</td>\n",
       "      <td>0.1320</td>\n",
       "      <td>0.4250</td>\n",
       "      <td>180.051</td>\n",
       "      <td>189323</td>\n",
       "      <td>4</td>\n",
       "    </tr>\n",
       "    <tr>\n",
       "      <td>3</td>\n",
       "      <td>Selena Gomez</td>\n",
       "      <td>Lose You To Love Me</td>\n",
       "      <td>1HfMVBKM75vxSfsQ5VefZ5</td>\n",
       "      <td>99</td>\n",
       "      <td>1</td>\n",
       "      <td>10</td>\n",
       "      <td>3</td>\n",
       "      <td>17952498</td>\n",
       "      <td>93</td>\n",
       "      <td>0.505</td>\n",
       "      <td>...</td>\n",
       "      <td>-9.005</td>\n",
       "      <td>1</td>\n",
       "      <td>0.0438</td>\n",
       "      <td>0.5760</td>\n",
       "      <td>0.000000</td>\n",
       "      <td>0.2100</td>\n",
       "      <td>0.0916</td>\n",
       "      <td>101.993</td>\n",
       "      <td>206459</td>\n",
       "      <td>4</td>\n",
       "    </tr>\n",
       "    <tr>\n",
       "      <td>4</td>\n",
       "      <td>blackbear</td>\n",
       "      <td>hot girl bummer</td>\n",
       "      <td>7aiClxsDWFRQ0Kzk5KI5ku</td>\n",
       "      <td>97</td>\n",
       "      <td>1</td>\n",
       "      <td>8</td>\n",
       "      <td>5</td>\n",
       "      <td>2549258</td>\n",
       "      <td>89</td>\n",
       "      <td>0.778</td>\n",
       "      <td>...</td>\n",
       "      <td>-7.109</td>\n",
       "      <td>0</td>\n",
       "      <td>0.0776</td>\n",
       "      <td>0.1280</td>\n",
       "      <td>0.000000</td>\n",
       "      <td>0.3990</td>\n",
       "      <td>0.6780</td>\n",
       "      <td>129.989</td>\n",
       "      <td>185093</td>\n",
       "      <td>1</td>\n",
       "    </tr>\n",
       "  </tbody>\n",
       "</table>\n",
       "<p>5 rows × 22 columns</p>\n",
       "</div>"
      ],
      "text/plain": [
       "    artist_name                                track_name  \\\n",
       "0   Post Malone                                   Circles   \n",
       "1  Travis Scott                       HIGHEST IN THE ROOM   \n",
       "2    Juice WRLD  Bandit (with YoungBoy Never Broke Again)   \n",
       "3  Selena Gomez                       Lose You To Love Me   \n",
       "4     blackbear                           hot girl bummer   \n",
       "\n",
       "                 track_id  popularity  num_artists  release_month  \\\n",
       "0  21jGcNKet2qwijlDFuPiPb          99            1              9   \n",
       "1  3eekarcy7kvN4yt5ZFzltW          98            1             10   \n",
       "2  6Gg1gjgKi2AK4e0qzsR7sd          94            2             10   \n",
       "3  1HfMVBKM75vxSfsQ5VefZ5          99            1             10   \n",
       "4  7aiClxsDWFRQ0Kzk5KI5ku          97            1              8   \n",
       "\n",
       "   release_weekday  artist_followers  artist_popularity  danceability  ...  \\\n",
       "0                5          19671232                100         0.695  ...   \n",
       "1                5           7153061                 97         0.598  ...   \n",
       "2                5           6183091                 94         0.474  ...   \n",
       "3                3          17952498                 93         0.505  ...   \n",
       "4                5           2549258                 89         0.778  ...   \n",
       "\n",
       "   loudness  mode  speechiness  acousticness  instrumentalness  liveness  \\\n",
       "0    -3.497     1       0.0395        0.1920          0.002440    0.0863   \n",
       "1    -8.764     0       0.0317        0.0546          0.000006    0.2100   \n",
       "2    -5.884     0       0.3430        0.0687          0.000000    0.1320   \n",
       "3    -9.005     1       0.0438        0.5760          0.000000    0.2100   \n",
       "4    -7.109     0       0.0776        0.1280          0.000000    0.3990   \n",
       "\n",
       "   valence    tempo  duration_ms  time_signature  \n",
       "0   0.5530  120.042       215280               4  \n",
       "1   0.0605   76.469       175721               4  \n",
       "2   0.4250  180.051       189323               4  \n",
       "3   0.0916  101.993       206459               4  \n",
       "4   0.6780  129.989       185093               1  \n",
       "\n",
       "[5 rows x 22 columns]"
      ]
     },
     "execution_count": 18,
     "metadata": {},
     "output_type": "execute_result"
    }
   ],
   "source": [
    "# merge both dataframes\n",
    "# the 'inner' method will make sure that we only keep track IDs present in both datasets\n",
    "df = pd.merge(df_tracks,df_audio_features,on='track_id',how='inner')\n",
    "print(\"Shape of the dataset:\", df_audio_features.shape)\n",
    "df.head()"
   ]
  },
  {
   "cell_type": "code",
   "execution_count": 19,
   "metadata": {},
   "outputs": [
    {
     "name": "stdout",
     "output_type": "stream",
     "text": [
      "<class 'pandas.core.frame.DataFrame'>\n",
      "Int64Index: 8692 entries, 0 to 8691\n",
      "Data columns (total 22 columns):\n",
      "artist_name          8692 non-null object\n",
      "track_name           8692 non-null object\n",
      "track_id             8692 non-null object\n",
      "popularity           8692 non-null int64\n",
      "num_artists          8692 non-null int64\n",
      "release_month        8692 non-null int64\n",
      "release_weekday      8692 non-null int64\n",
      "artist_followers     8692 non-null int64\n",
      "artist_popularity    8692 non-null int64\n",
      "danceability         8692 non-null float64\n",
      "energy               8692 non-null float64\n",
      "key                  8692 non-null int64\n",
      "loudness             8692 non-null float64\n",
      "mode                 8692 non-null int64\n",
      "speechiness          8692 non-null float64\n",
      "acousticness         8692 non-null float64\n",
      "instrumentalness     8692 non-null float64\n",
      "liveness             8692 non-null float64\n",
      "valence              8692 non-null float64\n",
      "tempo                8692 non-null float64\n",
      "duration_ms          8692 non-null int64\n",
      "time_signature       8692 non-null int64\n",
      "dtypes: float64(9), int64(10), object(3)\n",
      "memory usage: 1.5+ MB\n"
     ]
    }
   ],
   "source": [
    "df.info()"
   ]
  },
  {
   "cell_type": "markdown",
   "metadata": {},
   "source": [
    "Just in case, checking for any duplicate tracks:"
   ]
  },
  {
   "cell_type": "code",
   "execution_count": 21,
   "metadata": {},
   "outputs": [
    {
     "data": {
      "text/html": [
       "<div>\n",
       "<style scoped>\n",
       "    .dataframe tbody tr th:only-of-type {\n",
       "        vertical-align: middle;\n",
       "    }\n",
       "\n",
       "    .dataframe tbody tr th {\n",
       "        vertical-align: top;\n",
       "    }\n",
       "\n",
       "    .dataframe thead th {\n",
       "        text-align: right;\n",
       "    }\n",
       "</style>\n",
       "<table border=\"1\" class=\"dataframe\">\n",
       "  <thead>\n",
       "    <tr style=\"text-align: right;\">\n",
       "      <th></th>\n",
       "      <th>artist_name</th>\n",
       "      <th>track_name</th>\n",
       "      <th>track_id</th>\n",
       "      <th>popularity</th>\n",
       "      <th>num_artists</th>\n",
       "      <th>release_month</th>\n",
       "      <th>release_weekday</th>\n",
       "      <th>artist_followers</th>\n",
       "      <th>artist_popularity</th>\n",
       "      <th>danceability</th>\n",
       "      <th>...</th>\n",
       "      <th>loudness</th>\n",
       "      <th>mode</th>\n",
       "      <th>speechiness</th>\n",
       "      <th>acousticness</th>\n",
       "      <th>instrumentalness</th>\n",
       "      <th>liveness</th>\n",
       "      <th>valence</th>\n",
       "      <th>tempo</th>\n",
       "      <th>duration_ms</th>\n",
       "      <th>time_signature</th>\n",
       "    </tr>\n",
       "  </thead>\n",
       "  <tbody>\n",
       "  </tbody>\n",
       "</table>\n",
       "<p>0 rows × 22 columns</p>\n",
       "</div>"
      ],
      "text/plain": [
       "Empty DataFrame\n",
       "Columns: [artist_name, track_name, track_id, popularity, num_artists, release_month, release_weekday, artist_followers, artist_popularity, danceability, energy, key, loudness, mode, speechiness, acousticness, instrumentalness, liveness, valence, tempo, duration_ms, time_signature]\n",
       "Index: []\n",
       "\n",
       "[0 rows x 22 columns]"
      ]
     },
     "execution_count": 21,
     "metadata": {},
     "output_type": "execute_result"
    }
   ],
   "source": [
    "df[df.duplicated(subset=['artist_name','track_name'],keep=False)]"
   ]
  },
  {
   "cell_type": "markdown",
   "metadata": {},
   "source": [
    "# 8. Adding numeric features\n",
    "We now add some features to the data frame which will be useful for classifiers."
   ]
  },
  {
   "cell_type": "code",
   "execution_count": 22,
   "metadata": {},
   "outputs": [
    {
     "data": {
      "text/html": [
       "<div>\n",
       "<style scoped>\n",
       "    .dataframe tbody tr th:only-of-type {\n",
       "        vertical-align: middle;\n",
       "    }\n",
       "\n",
       "    .dataframe tbody tr th {\n",
       "        vertical-align: top;\n",
       "    }\n",
       "\n",
       "    .dataframe thead th {\n",
       "        text-align: right;\n",
       "    }\n",
       "</style>\n",
       "<table border=\"1\" class=\"dataframe\">\n",
       "  <thead>\n",
       "    <tr style=\"text-align: right;\">\n",
       "      <th></th>\n",
       "      <th>artist_name</th>\n",
       "      <th>track_name</th>\n",
       "      <th>track_id</th>\n",
       "      <th>popularity</th>\n",
       "      <th>num_artists</th>\n",
       "      <th>release_month</th>\n",
       "      <th>release_weekday</th>\n",
       "      <th>artist_followers</th>\n",
       "      <th>artist_popularity</th>\n",
       "      <th>danceability</th>\n",
       "      <th>...</th>\n",
       "      <th>speechiness</th>\n",
       "      <th>acousticness</th>\n",
       "      <th>instrumentalness</th>\n",
       "      <th>liveness</th>\n",
       "      <th>valence</th>\n",
       "      <th>tempo</th>\n",
       "      <th>duration_ms</th>\n",
       "      <th>time_signature</th>\n",
       "      <th>track_len</th>\n",
       "      <th>artist_len</th>\n",
       "    </tr>\n",
       "  </thead>\n",
       "  <tbody>\n",
       "    <tr>\n",
       "      <td>0</td>\n",
       "      <td>Post Malone</td>\n",
       "      <td>Circles</td>\n",
       "      <td>21jGcNKet2qwijlDFuPiPb</td>\n",
       "      <td>99</td>\n",
       "      <td>1</td>\n",
       "      <td>9</td>\n",
       "      <td>5</td>\n",
       "      <td>19671232</td>\n",
       "      <td>100</td>\n",
       "      <td>0.695</td>\n",
       "      <td>...</td>\n",
       "      <td>0.0395</td>\n",
       "      <td>0.1920</td>\n",
       "      <td>0.002440</td>\n",
       "      <td>0.0863</td>\n",
       "      <td>0.5530</td>\n",
       "      <td>120.042</td>\n",
       "      <td>215280</td>\n",
       "      <td>4</td>\n",
       "      <td>7</td>\n",
       "      <td>11</td>\n",
       "    </tr>\n",
       "    <tr>\n",
       "      <td>1</td>\n",
       "      <td>Travis Scott</td>\n",
       "      <td>HIGHEST IN THE ROOM</td>\n",
       "      <td>3eekarcy7kvN4yt5ZFzltW</td>\n",
       "      <td>98</td>\n",
       "      <td>1</td>\n",
       "      <td>10</td>\n",
       "      <td>5</td>\n",
       "      <td>7153061</td>\n",
       "      <td>97</td>\n",
       "      <td>0.598</td>\n",
       "      <td>...</td>\n",
       "      <td>0.0317</td>\n",
       "      <td>0.0546</td>\n",
       "      <td>0.000006</td>\n",
       "      <td>0.2100</td>\n",
       "      <td>0.0605</td>\n",
       "      <td>76.469</td>\n",
       "      <td>175721</td>\n",
       "      <td>4</td>\n",
       "      <td>19</td>\n",
       "      <td>12</td>\n",
       "    </tr>\n",
       "    <tr>\n",
       "      <td>2</td>\n",
       "      <td>Juice WRLD</td>\n",
       "      <td>Bandit (with YoungBoy Never Broke Again)</td>\n",
       "      <td>6Gg1gjgKi2AK4e0qzsR7sd</td>\n",
       "      <td>94</td>\n",
       "      <td>2</td>\n",
       "      <td>10</td>\n",
       "      <td>5</td>\n",
       "      <td>6183091</td>\n",
       "      <td>94</td>\n",
       "      <td>0.474</td>\n",
       "      <td>...</td>\n",
       "      <td>0.3430</td>\n",
       "      <td>0.0687</td>\n",
       "      <td>0.000000</td>\n",
       "      <td>0.1320</td>\n",
       "      <td>0.4250</td>\n",
       "      <td>180.051</td>\n",
       "      <td>189323</td>\n",
       "      <td>4</td>\n",
       "      <td>40</td>\n",
       "      <td>10</td>\n",
       "    </tr>\n",
       "    <tr>\n",
       "      <td>3</td>\n",
       "      <td>Selena Gomez</td>\n",
       "      <td>Lose You To Love Me</td>\n",
       "      <td>1HfMVBKM75vxSfsQ5VefZ5</td>\n",
       "      <td>99</td>\n",
       "      <td>1</td>\n",
       "      <td>10</td>\n",
       "      <td>3</td>\n",
       "      <td>17952498</td>\n",
       "      <td>93</td>\n",
       "      <td>0.505</td>\n",
       "      <td>...</td>\n",
       "      <td>0.0438</td>\n",
       "      <td>0.5760</td>\n",
       "      <td>0.000000</td>\n",
       "      <td>0.2100</td>\n",
       "      <td>0.0916</td>\n",
       "      <td>101.993</td>\n",
       "      <td>206459</td>\n",
       "      <td>4</td>\n",
       "      <td>19</td>\n",
       "      <td>12</td>\n",
       "    </tr>\n",
       "    <tr>\n",
       "      <td>4</td>\n",
       "      <td>blackbear</td>\n",
       "      <td>hot girl bummer</td>\n",
       "      <td>7aiClxsDWFRQ0Kzk5KI5ku</td>\n",
       "      <td>97</td>\n",
       "      <td>1</td>\n",
       "      <td>8</td>\n",
       "      <td>5</td>\n",
       "      <td>2549258</td>\n",
       "      <td>89</td>\n",
       "      <td>0.778</td>\n",
       "      <td>...</td>\n",
       "      <td>0.0776</td>\n",
       "      <td>0.1280</td>\n",
       "      <td>0.000000</td>\n",
       "      <td>0.3990</td>\n",
       "      <td>0.6780</td>\n",
       "      <td>129.989</td>\n",
       "      <td>185093</td>\n",
       "      <td>1</td>\n",
       "      <td>15</td>\n",
       "      <td>9</td>\n",
       "    </tr>\n",
       "  </tbody>\n",
       "</table>\n",
       "<p>5 rows × 24 columns</p>\n",
       "</div>"
      ],
      "text/plain": [
       "    artist_name                                track_name  \\\n",
       "0   Post Malone                                   Circles   \n",
       "1  Travis Scott                       HIGHEST IN THE ROOM   \n",
       "2    Juice WRLD  Bandit (with YoungBoy Never Broke Again)   \n",
       "3  Selena Gomez                       Lose You To Love Me   \n",
       "4     blackbear                           hot girl bummer   \n",
       "\n",
       "                 track_id  popularity  num_artists  release_month  \\\n",
       "0  21jGcNKet2qwijlDFuPiPb          99            1              9   \n",
       "1  3eekarcy7kvN4yt5ZFzltW          98            1             10   \n",
       "2  6Gg1gjgKi2AK4e0qzsR7sd          94            2             10   \n",
       "3  1HfMVBKM75vxSfsQ5VefZ5          99            1             10   \n",
       "4  7aiClxsDWFRQ0Kzk5KI5ku          97            1              8   \n",
       "\n",
       "   release_weekday  artist_followers  artist_popularity  danceability  ...  \\\n",
       "0                5          19671232                100         0.695  ...   \n",
       "1                5           7153061                 97         0.598  ...   \n",
       "2                5           6183091                 94         0.474  ...   \n",
       "3                3          17952498                 93         0.505  ...   \n",
       "4                5           2549258                 89         0.778  ...   \n",
       "\n",
       "   speechiness  acousticness  instrumentalness  liveness  valence    tempo  \\\n",
       "0       0.0395        0.1920          0.002440    0.0863   0.5530  120.042   \n",
       "1       0.0317        0.0546          0.000006    0.2100   0.0605   76.469   \n",
       "2       0.3430        0.0687          0.000000    0.1320   0.4250  180.051   \n",
       "3       0.0438        0.5760          0.000000    0.2100   0.0916  101.993   \n",
       "4       0.0776        0.1280          0.000000    0.3990   0.6780  129.989   \n",
       "\n",
       "   duration_ms  time_signature  track_len  artist_len  \n",
       "0       215280               4          7          11  \n",
       "1       175721               4         19          12  \n",
       "2       189323               4         40          10  \n",
       "3       206459               4         19          12  \n",
       "4       185093               1         15           9  \n",
       "\n",
       "[5 rows x 24 columns]"
      ]
     },
     "execution_count": 22,
     "metadata": {},
     "output_type": "execute_result"
    }
   ],
   "source": [
    "df['track_len'] = df.apply(lambda row: len(row['track_name']), axis=1)\n",
    "df['artist_len'] = df.apply(lambda row: len(row['artist_name']), axis=1)\n",
    "\n",
    "df.head()"
   ]
  },
  {
   "cell_type": "markdown",
   "metadata": {},
   "source": [
    "# 7. Save to file\n",
    "Everything seems to be fine so I will save the dataframe as a .csv file."
   ]
  },
  {
   "cell_type": "code",
   "execution_count": 23,
   "metadata": {},
   "outputs": [],
   "source": [
    "df.to_csv('../datasets/SpotifyAudioFeatures-full-29Nov.csv')"
   ]
  },
  {
   "cell_type": "code",
   "execution_count": null,
   "metadata": {},
   "outputs": [],
   "source": []
  }
 ],
 "metadata": {
  "kernelspec": {
   "display_name": "Python 3",
   "language": "python",
   "name": "python3"
  },
  "language_info": {
   "codemirror_mode": {
    "name": "ipython",
    "version": 3
   },
   "file_extension": ".py",
   "mimetype": "text/x-python",
   "name": "python",
   "nbconvert_exporter": "python",
   "pygments_lexer": "ipython3",
   "version": "3.7.5"
  }
 },
 "nbformat": 4,
 "nbformat_minor": 2
}
