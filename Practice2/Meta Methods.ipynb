{
 "cells": [
  {
   "cell_type": "markdown",
   "metadata": {},
   "source": [
    "# Meta Methods applied to the Spotify song features data set"
   ]
  },
  {
   "cell_type": "code",
   "execution_count": 1,
   "metadata": {},
   "outputs": [
    {
     "data": {
      "text/html": [
       "<div>\n",
       "<style scoped>\n",
       "    .dataframe tbody tr th:only-of-type {\n",
       "        vertical-align: middle;\n",
       "    }\n",
       "\n",
       "    .dataframe tbody tr th {\n",
       "        vertical-align: top;\n",
       "    }\n",
       "\n",
       "    .dataframe thead th {\n",
       "        text-align: right;\n",
       "    }\n",
       "</style>\n",
       "<table border=\"1\" class=\"dataframe\">\n",
       "  <thead>\n",
       "    <tr style=\"text-align: right;\">\n",
       "      <th></th>\n",
       "      <th>num_artists</th>\n",
       "      <th>release_month</th>\n",
       "      <th>release_weekday</th>\n",
       "      <th>artist_followers</th>\n",
       "      <th>artist_popularity</th>\n",
       "      <th>danceability</th>\n",
       "      <th>energy</th>\n",
       "      <th>key</th>\n",
       "      <th>loudness</th>\n",
       "      <th>mode</th>\n",
       "      <th>...</th>\n",
       "      <th>acousticness</th>\n",
       "      <th>instrumentalness</th>\n",
       "      <th>liveness</th>\n",
       "      <th>valence</th>\n",
       "      <th>tempo</th>\n",
       "      <th>time_signature</th>\n",
       "      <th>track_len</th>\n",
       "      <th>artist_len</th>\n",
       "      <th>duration</th>\n",
       "      <th>popularity</th>\n",
       "    </tr>\n",
       "  </thead>\n",
       "  <tbody>\n",
       "    <tr>\n",
       "      <th>0</th>\n",
       "      <td>-0.655325</td>\n",
       "      <td>0.323833</td>\n",
       "      <td>0.369807</td>\n",
       "      <td>3.232878</td>\n",
       "      <td>2.327814</td>\n",
       "      <td>0.576809</td>\n",
       "      <td>0.947029</td>\n",
       "      <td>-1.424277</td>\n",
       "      <td>0.936815</td>\n",
       "      <td>0.745489</td>\n",
       "      <td>...</td>\n",
       "      <td>-0.597371</td>\n",
       "      <td>-0.522514</td>\n",
       "      <td>-0.626545</td>\n",
       "      <td>0.473094</td>\n",
       "      <td>0.085367</td>\n",
       "      <td>0.258505</td>\n",
       "      <td>-0.758377</td>\n",
       "      <td>-0.198783</td>\n",
       "      <td>0.038276</td>\n",
       "      <td>1</td>\n",
       "    </tr>\n",
       "    <tr>\n",
       "      <th>1</th>\n",
       "      <td>-0.655325</td>\n",
       "      <td>0.640026</td>\n",
       "      <td>0.369807</td>\n",
       "      <td>0.876533</td>\n",
       "      <td>2.051966</td>\n",
       "      <td>0.106167</td>\n",
       "      <td>-0.278086</td>\n",
       "      <td>0.537304</td>\n",
       "      <td>0.241737</td>\n",
       "      <td>-1.341401</td>\n",
       "      <td>...</td>\n",
       "      <td>-0.960716</td>\n",
       "      <td>-0.529616</td>\n",
       "      <td>0.230180</td>\n",
       "      <td>-1.580611</td>\n",
       "      <td>-1.274780</td>\n",
       "      <td>0.258505</td>\n",
       "      <td>-0.287441</td>\n",
       "      <td>-0.016080</td>\n",
       "      <td>-0.328307</td>\n",
       "      <td>1</td>\n",
       "    </tr>\n",
       "    <tr>\n",
       "      <th>2</th>\n",
       "      <td>0.176584</td>\n",
       "      <td>0.640026</td>\n",
       "      <td>0.369807</td>\n",
       "      <td>0.693952</td>\n",
       "      <td>1.776118</td>\n",
       "      <td>-0.495479</td>\n",
       "      <td>0.467954</td>\n",
       "      <td>-0.023148</td>\n",
       "      <td>0.621806</td>\n",
       "      <td>-1.341401</td>\n",
       "      <td>...</td>\n",
       "      <td>-0.923429</td>\n",
       "      <td>-0.529633</td>\n",
       "      <td>-0.310034</td>\n",
       "      <td>-0.060661</td>\n",
       "      <td>1.958569</td>\n",
       "      <td>0.258505</td>\n",
       "      <td>0.536698</td>\n",
       "      <td>-0.381487</td>\n",
       "      <td>-0.202261</td>\n",
       "      <td>1</td>\n",
       "    </tr>\n",
       "    <tr>\n",
       "      <th>3</th>\n",
       "      <td>-0.655325</td>\n",
       "      <td>0.640026</td>\n",
       "      <td>-1.503364</td>\n",
       "      <td>2.909354</td>\n",
       "      <td>1.684169</td>\n",
       "      <td>-0.345067</td>\n",
       "      <td>-0.596250</td>\n",
       "      <td>-0.303374</td>\n",
       "      <td>0.209933</td>\n",
       "      <td>0.745489</td>\n",
       "      <td>...</td>\n",
       "      <td>0.418091</td>\n",
       "      <td>-0.529633</td>\n",
       "      <td>0.230180</td>\n",
       "      <td>-1.450925</td>\n",
       "      <td>-0.478039</td>\n",
       "      <td>0.258505</td>\n",
       "      <td>-0.287441</td>\n",
       "      <td>-0.016080</td>\n",
       "      <td>-0.043466</td>\n",
       "      <td>1</td>\n",
       "    </tr>\n",
       "    <tr>\n",
       "      <th>4</th>\n",
       "      <td>-0.655325</td>\n",
       "      <td>0.007639</td>\n",
       "      <td>0.369807</td>\n",
       "      <td>0.009941</td>\n",
       "      <td>1.316371</td>\n",
       "      <td>0.979523</td>\n",
       "      <td>0.204646</td>\n",
       "      <td>0.257078</td>\n",
       "      <td>0.460145</td>\n",
       "      <td>-1.341401</td>\n",
       "      <td>...</td>\n",
       "      <td>-0.766614</td>\n",
       "      <td>-0.529633</td>\n",
       "      <td>1.539162</td>\n",
       "      <td>0.994339</td>\n",
       "      <td>0.395866</td>\n",
       "      <td>-5.303184</td>\n",
       "      <td>-0.444419</td>\n",
       "      <td>-0.564190</td>\n",
       "      <td>-0.241459</td>\n",
       "      <td>1</td>\n",
       "    </tr>\n",
       "  </tbody>\n",
       "</table>\n",
       "<p>5 rows × 21 columns</p>\n",
       "</div>"
      ],
      "text/plain": [
       "   num_artists  release_month  release_weekday  artist_followers  \\\n",
       "0    -0.655325       0.323833         0.369807          3.232878   \n",
       "1    -0.655325       0.640026         0.369807          0.876533   \n",
       "2     0.176584       0.640026         0.369807          0.693952   \n",
       "3    -0.655325       0.640026        -1.503364          2.909354   \n",
       "4    -0.655325       0.007639         0.369807          0.009941   \n",
       "\n",
       "   artist_popularity  danceability    energy       key  loudness      mode  \\\n",
       "0           2.327814      0.576809  0.947029 -1.424277  0.936815  0.745489   \n",
       "1           2.051966      0.106167 -0.278086  0.537304  0.241737 -1.341401   \n",
       "2           1.776118     -0.495479  0.467954 -0.023148  0.621806 -1.341401   \n",
       "3           1.684169     -0.345067 -0.596250 -0.303374  0.209933  0.745489   \n",
       "4           1.316371      0.979523  0.204646  0.257078  0.460145 -1.341401   \n",
       "\n",
       "   ...  acousticness  instrumentalness  liveness   valence     tempo  \\\n",
       "0  ...     -0.597371         -0.522514 -0.626545  0.473094  0.085367   \n",
       "1  ...     -0.960716         -0.529616  0.230180 -1.580611 -1.274780   \n",
       "2  ...     -0.923429         -0.529633 -0.310034 -0.060661  1.958569   \n",
       "3  ...      0.418091         -0.529633  0.230180 -1.450925 -0.478039   \n",
       "4  ...     -0.766614         -0.529633  1.539162  0.994339  0.395866   \n",
       "\n",
       "   time_signature  track_len  artist_len  duration  popularity  \n",
       "0        0.258505  -0.758377   -0.198783  0.038276           1  \n",
       "1        0.258505  -0.287441   -0.016080 -0.328307           1  \n",
       "2        0.258505   0.536698   -0.381487 -0.202261           1  \n",
       "3        0.258505  -0.287441   -0.016080 -0.043466           1  \n",
       "4       -5.303184  -0.444419   -0.564190 -0.241459           1  \n",
       "\n",
       "[5 rows x 21 columns]"
      ]
     },
     "execution_count": 1,
     "metadata": {},
     "output_type": "execute_result"
    }
   ],
   "source": [
    "# Import libraries \n",
    "\n",
    "import numpy as np    # Numeric and matrix computation\n",
    "import pandas   # Optional: good package for manipulating data \n",
    "import sklearn as sk  # Package with learning algorithms implemented\n",
    "\n",
    "df = pandas.read_csv('../datasets/NormalizedSpotifyDataset.csv', index_col=0)\n",
    "df.head()"
   ]
  },
  {
   "cell_type": "code",
   "execution_count": 2,
   "metadata": {},
   "outputs": [],
   "source": [
    "# No preprocessing needed. Numerical and scaled data\n",
    "# Separate data from labels\n",
    "\n",
    "X = df.drop(labels='popularity',axis=1).values\n",
    "y = df['popularity'].values"
   ]
  },
  {
   "cell_type": "markdown",
   "metadata": {},
   "source": [
    "## Voting scheme"
   ]
  },
  {
   "cell_type": "code",
   "execution_count": 4,
   "metadata": {},
   "outputs": [
    {
     "name": "stdout",
     "output_type": "stream",
     "text": [
      "Best Params fo Knn= {'n_neighbors': 29, 'weights': 'distance'} Accuracy= 0.7393005062126093\n",
      "Accuracy: 0.632 [Naive Bayes]\n",
      "Accuracy: 0.739 [Knn (3)]\n",
      "Accuracy: 0.713 [Dec. Tree]\n"
     ]
    }
   ],
   "source": [
    "from sklearn.model_selection import cross_val_score\n",
    "#from sklearn.linear_model import LogisticRegression\n",
    "from sklearn.naive_bayes import GaussianNB\n",
    "from sklearn.ensemble import VotingClassifier\n",
    "from sklearn.tree import DecisionTreeClassifier\n",
    "from sklearn.neighbors import KNeighborsClassifier\n",
    "from sklearn.model_selection import GridSearchCV\n",
    "\n",
    "cv=10\n",
    "\n",
    "clf1 = GaussianNB()\n",
    "\n",
    "params = {'n_neighbors':list(range(1,30,2)), 'weights':('distance','uniform')}\n",
    "knc = KNeighborsClassifier()\n",
    "clf = GridSearchCV(knc, param_grid=params,cv=cv,n_jobs=-1)  # If cv is integer, by default is Stratifyed \n",
    "clf.fit(X, y)\n",
    "print(\"Best Params fo Knn=\",clf.best_params_, \"Accuracy=\", clf.best_score_)\n",
    "parval=clf.best_params_\n",
    "clf2 = KNeighborsClassifier(n_neighbors=parval['n_neighbors'],weights=parval['weights'])\n",
    "\n",
    "clf3 = DecisionTreeClassifier(criterion='entropy')\n",
    "\n",
    "\n",
    "for clf, label in zip([clf1, clf2, clf3], ['Naive Bayes','Knn (3)', 'Dec. Tree', ]):\n",
    "    scores = cross_val_score(clf, X, y, cv=cv, scoring='accuracy')\n",
    "    print(\"Accuracy: %0.3f [%s]\" % (scores.mean(), label))\n",
    "    "
   ]
  },
  {
   "cell_type": "code",
   "execution_count": 5,
   "metadata": {},
   "outputs": [
    {
     "name": "stdout",
     "output_type": "stream",
     "text": [
      "Accuracy: 0.732 [Majority Voting]\n"
     ]
    }
   ],
   "source": [
    "import warnings\n",
    "warnings.filterwarnings(\"ignore\", category=DeprecationWarning)\n",
    "\n",
    "eclf = VotingClassifier(estimators=[('nb', clf1), ('knn3', clf2), ('dt', clf3)], voting='hard', n_jobs=-1)\n",
    "scores = cross_val_score(eclf, X, y, cv=cv, scoring='accuracy')\n",
    "print(\"Accuracy: %0.3f [%s]\" % (scores.mean() , \"Majority Voting\"))"
   ]
  },
  {
   "cell_type": "code",
   "execution_count": 6,
   "metadata": {},
   "outputs": [
    {
     "name": "stdout",
     "output_type": "stream",
     "text": [
      "Accuracy: 0.729 [Weighted Voting]\n"
     ]
    }
   ],
   "source": [
    "eclf = VotingClassifier(estimators=[('nb', clf1), ('knn3', clf2), ('dt', clf3)],voting='soft', weights=[1,2,2], n_jobs=-1)\n",
    "scores = cross_val_score(eclf, X, y, cv=cv, scoring='accuracy')\n",
    "print(\"Accuracy: %0.3f [%s]\" % (scores.mean(), \"Weighted Voting\"))"
   ]
  },
  {
   "cell_type": "code",
   "execution_count": 13,
   "metadata": {},
   "outputs": [
    {
     "name": "stdout",
     "output_type": "stream",
     "text": [
      "Accuracy: 0.73 (+/- 0.08)\n"
     ]
    }
   ],
   "source": [
    "from sklearn.model_selection import train_test_split\n",
    "from sklearn import metrics\n",
    "import matplotlib.pyplot as plt        # Per mostrar plots\n",
    "\n",
    "# Let's do a simple cross-validation: split data into training and test sets (test 30% of data)\n",
    "(X_train, X_test,  y_train, y_test) = train_test_split(X, y, test_size=.3, random_state=1)\n",
    "\n",
    "# Train the classifier\n",
    "eclf.fit(X_train, y_train)\n",
    "\n",
    "# Obtain accuracy score of learned classifier on test data\n",
    "score = eclf.score(X_test, y_test)\n",
    "print(\"Accuracy: %0.2f (+/- %0.2f)\" % (scores.mean(), scores.std()))"
   ]
  },
  {
   "cell_type": "code",
   "execution_count": 14,
   "metadata": {},
   "outputs": [
    {
     "data": {
      "image/png": "[encoded data removed]",
      "text/plain": [
       "<Figure size 180x180 with 1 Axes>"
      ]
     },
     "metadata": {
      "needs_background": "light"
     },
     "output_type": "display_data"
    }
   ],
   "source": [
    "predicted = eclf.predict(X_test)\n",
    "confmat = metrics.confusion_matrix(y_test, predicted)\n",
    "\n",
    "fig, ax = plt.subplots(figsize=(2.5, 2.5))\n",
    "ax.matshow(confmat, cmap=plt.cm.Blues, alpha=0.3)\n",
    "for i in range(confmat.shape[0]):\n",
    "    for j in range(confmat.shape[1]):\n",
    "        ax.text(x=j, y=i, s=confmat[i, j], va='center', ha='center',fontsize=7)\n",
    "\n",
    "plt.xlabel('Predicted label')\n",
    "plt.ylabel('True label')\n",
    "\n",
    "plt.tight_layout()\n",
    "plt.savefig('ConMatrix.png', dpi=600)\n",
    "plt.show()"
   ]
  },
  {
   "cell_type": "markdown",
   "metadata": {},
   "source": [
    "## Bagging"
   ]
  },
  {
   "cell_type": "code",
   "execution_count": 10,
   "metadata": {},
   "outputs": [
    {
     "name": "stdout",
     "output_type": "stream",
     "text": [
      "Accuracy: 0.715 [1]\n",
      "Accuracy: 0.712 [2]\n",
      "Accuracy: 0.755 [5]\n",
      "Accuracy: 0.769 [10]\n",
      "Accuracy: 0.782 [20]\n",
      "Accuracy: 0.787 [50]\n",
      "Accuracy: 0.792 [100]\n",
      "Accuracy: 0.795 [200]\n",
      "\n",
      "Accuracy: 0.654 [1]\n",
      "Accuracy: 0.647 [2]\n",
      "Accuracy: 0.708 [5]\n",
      "Accuracy: 0.723 [10]\n",
      "Accuracy: 0.748 [20]\n",
      "Accuracy: 0.770 [50]\n",
      "Accuracy: 0.776 [100]\n",
      "Accuracy: 0.783 [200]\n"
     ]
    }
   ],
   "source": [
    "from sklearn.ensemble import BaggingClassifier\n",
    "\n",
    "lb=[]\n",
    "for nest in [1,2,5,10,20,50,100,200]:\n",
    "    scores = cross_val_score(BaggingClassifier(base_estimator=DecisionTreeClassifier(),n_estimators=nest, n_jobs=-1), X, y, cv=cv, scoring='accuracy')\n",
    "    print(\"Accuracy: %0.3f [%s]\" % (scores.mean(), nest))\n",
    "    lb.append(scores.mean())\n",
    "\n",
    "lb2=[]    \n",
    "print()\n",
    "for nest in [1,2,5,10,20,50,100,200]:\n",
    "    scores = cross_val_score(BaggingClassifier(base_estimator=DecisionTreeClassifier(),n_estimators=nest,max_features=0.35, n_jobs=-1), X, y, cv=cv, scoring='accuracy')\n",
    "    print(\"Accuracy: %0.3f [%s]\" % (scores.mean(), nest))\n",
    "    lb2.append(scores.mean())"
   ]
  },
  {
   "cell_type": "markdown",
   "metadata": {},
   "source": [
    "## Random Forest"
   ]
  },
  {
   "cell_type": "code",
   "execution_count": 11,
   "metadata": {},
   "outputs": [
    {
     "name": "stdout",
     "output_type": "stream",
     "text": [
      "Accuracy: 0.709 [1]\n",
      "Accuracy: 0.691 [2]\n",
      "Accuracy: 0.755 [5]\n",
      "Accuracy: 0.765 [10]\n",
      "Accuracy: 0.778 [20]\n",
      "Accuracy: 0.786 [50]\n",
      "Accuracy: 0.793 [100]\n",
      "Accuracy: 0.792 [200]\n"
     ]
    }
   ],
   "source": [
    "from sklearn.ensemble import RandomForestClassifier\n",
    "\n",
    "lrf=[]\n",
    "for nest in [1,2,5,10,20,50,100,200]:\n",
    "    scores = cross_val_score(RandomForestClassifier(n_estimators=nest, n_jobs=-1), X, y, cv=cv, scoring='accuracy')\n",
    "    print(\"Accuracy: %0.3f [%s]\" % (scores.mean(), nest))\n",
    "    lrf.append(scores.mean())"
   ]
  },
  {
   "cell_type": "code",
   "execution_count": 12,
   "metadata": {},
   "outputs": [
    {
     "name": "stdout",
     "output_type": "stream",
     "text": [
      "Accuracy: 0.696 [1]\n",
      "Accuracy: 0.683 [2]\n",
      "Accuracy: 0.746 [5]\n",
      "Accuracy: 0.759 [10]\n",
      "Accuracy: 0.777 [20]\n",
      "Accuracy: 0.782 [50]\n",
      "Accuracy: 0.784 [100]\n",
      "Accuracy: 0.789 [200]\n"
     ]
    }
   ],
   "source": [
    "from sklearn.ensemble import ExtraTreesClassifier\n",
    "\n",
    "lext=[]\n",
    "for nest in [1,2,5,10,20,50,100,200]:\n",
    "    scores = cross_val_score(ExtraTreesClassifier(n_estimators=nest, n_jobs=-1), X, y, cv=cv, scoring='accuracy')\n",
    "    print(\"Accuracy: %0.3f [%s]\" % (scores.mean(), nest))\n",
    "    lext.append(scores.mean())"
   ]
  },
  {
   "cell_type": "markdown",
   "metadata": {},
   "source": [
    "## Boosting"
   ]
  },
  {
   "cell_type": "code",
   "execution_count": 13,
   "metadata": {},
   "outputs": [
    {
     "name": "stdout",
     "output_type": "stream",
     "text": [
      "Accuracy: 0.727 [1]\n",
      "Accuracy: 0.727 [2]\n",
      "Accuracy: 0.734 [5]\n",
      "Accuracy: 0.742 [10]\n",
      "Accuracy: 0.753 [20]\n",
      "Accuracy: 0.764 [50]\n",
      "Accuracy: 0.773 [100]\n",
      "Accuracy: 0.772 [200]\n"
     ]
    }
   ],
   "source": [
    "from sklearn.ensemble import AdaBoostClassifier\n",
    "\n",
    "lboo=[]\n",
    "for nest in [1,2,5,10,20,50,100,200]:\n",
    "    scores = cross_val_score(AdaBoostClassifier(n_estimators=nest), X, y, cv=cv, scoring='accuracy')\n",
    "    print(\"Accuracy: %0.3f [%s]\" % (scores.mean(), nest))\n",
    "    lboo.append(scores.mean())"
   ]
  },
  {
   "cell_type": "code",
   "execution_count": 14,
   "metadata": {},
   "outputs": [
    {
     "name": "stdout",
     "output_type": "stream",
     "text": [
      "Accuracy: 0.757 [1]\n",
      "Accuracy: 0.762 [2]\n",
      "Accuracy: 0.764 [5]\n",
      "Accuracy: 0.761 [10]\n",
      "Accuracy: 0.757 [20]\n",
      "Accuracy: 0.736 [50]\n",
      "Accuracy: 0.737 [100]\n",
      "Accuracy: 0.729 [200]\n"
     ]
    }
   ],
   "source": [
    "from sklearn.ensemble import AdaBoostClassifier\n",
    "\n",
    "lboodt=[]\n",
    "for nest in [1,2,5,10,20,50,100,200]:\n",
    "    scores = cross_val_score(AdaBoostClassifier(DecisionTreeClassifier(max_depth=5),n_estimators=nest), X, y, cv=cv, scoring='accuracy')\n",
    "    print(\"Accuracy: %0.3f [%s]\" % (scores.mean(), nest))\n",
    "    lboodt.append(scores.mean())"
   ]
  },
  {
   "cell_type": "code",
   "execution_count": 15,
   "metadata": {},
   "outputs": [
    {
     "name": "stdout",
     "output_type": "stream",
     "text": [
      "Accuracy: 0.694 [1]\n",
      "Accuracy: 0.721 [2]\n",
      "Accuracy: 0.772 [5]\n",
      "Accuracy: 0.773 [10]\n",
      "Accuracy: 0.771 [20]\n",
      "Accuracy: 0.778 [50]\n",
      "Accuracy: 0.787 [100]\n",
      "Accuracy: 0.790 [200]\n"
     ]
    }
   ],
   "source": [
    "from sklearn.ensemble import GradientBoostingClassifier\n",
    "\n",
    "lgbboo=[]\n",
    "for nest in [1,2,5,10,20,50,100,200]:\n",
    "    scores = cross_val_score(GradientBoostingClassifier(n_estimators=nest), X, y, cv=cv, scoring='accuracy')\n",
    "    print(\"Accuracy: %0.3f [%s]\" % (scores.mean(), nest))\n",
    "    lgbboo.append(scores.mean())"
   ]
  },
  {
   "cell_type": "code",
   "execution_count": 30,
   "metadata": {},
   "outputs": [
    {
     "data": {
      "image/png": "[encoded data removed]",
      "text/plain": [
       "<Figure size 864x432 with 1 Axes>"
      ]
     },
     "metadata": {
      "needs_background": "light"
     },
     "output_type": "display_data"
    }
   ],
   "source": [
    "import  matplotlib.pyplot as plt\n",
    "\n",
    "plt.figure(figsize=(12,6))\n",
    "plt.plot([1,2,5,10,20,50,100,200],lb,label=\"Bagging DT\")\n",
    "plt.plot([1,2,5,10,20,50,100,200],lb2,label=\"Bagging DT forced variance\")\n",
    "plt.plot([1,2,5,10,20,50,100,200],lrf,label=\"Random Forest\")\n",
    "plt.plot([1,2,5,10,20,50,100,200],lext,label=\"Extra Trees\")\n",
    "plt.plot([1,2,5,10,20,50,100,200],lboo,label=\"AdaBoost Dec.Stumps\")\n",
    "plt.plot([1,2,5,10,20,50,100,200],lboodt,label=\"AdaBoost DT\")\n",
    "plt.plot([1,2,5,10,20,50,100,200],lgbboo,label=\"Gradient Boosting\")\n",
    "plt.legend(loc='lower right')\n",
    "\n",
    "plt.show()"
   ]
  },
  {
   "cell_type": "code",
   "execution_count": 18,
   "metadata": {},
   "outputs": [
    {
     "data": {
      "image/png": "[encoded data removed]",
      "text/plain": [
       "<Figure size 864x432 with 1 Axes>"
      ]
     },
     "metadata": {
      "needs_background": "light"
     },
     "output_type": "display_data"
    }
   ],
   "source": [
    "plt.figure(figsize=(12,6))\n",
    "plt.plot([1,2,5,10,20,50,100,200],lb,label=\"Bagging DT\")\n",
    "plt.plot([1,2,5,10,20,50,100,200],lb2,label=\"Bagging DT forced variance\")\n",
    "plt.plot([1,2,5,10,20,50,100,200],lrf,label=\"Random Forest\")\n",
    "plt.plot([1,2,5,10,20,50,100,200],lext,label=\"Extra Trees\")\n",
    "plt.plot([1,2,5,10,20,50,100,200],lboo,label=\"AdaBoost Dec.Stumps\")\n",
    "plt.plot([1,2,5,10,20,50,100,200],lboodt,label=\"AdaBoost DT\")\n",
    "plt.plot([1,2,5,10,20,50,100,200],lgbboo,label=\"Gradient Boosting\")\n",
    "plt.legend(loc='lower right')\n",
    "plt.xlim(0,200)\n",
    "plt.ylim(0.70,0.82)\n",
    "plt.show()"
   ]
  },
  {
   "cell_type": "markdown",
   "metadata": {},
   "source": [
    "## Feature Selection with Forests of trees"
   ]
  },
  {
   "cell_type": "code",
   "execution_count": 20,
   "metadata": {},
   "outputs": [
    {
     "name": "stdout",
     "output_type": "stream",
     "text": [
      "[0.01961725 0.13720265 0.01499198 0.07276802 0.125569   0.048079\n",
      " 0.0491907  0.02335224 0.06036377 0.00585969 0.04450077 0.05175204\n",
      " 0.03099509 0.04030646 0.04236605 0.03937982 0.00406543 0.06461815\n",
      " 0.07905791 0.04596397]\n"
     ]
    }
   ],
   "source": [
    "clf = RandomForestClassifier(n_estimators=100)\n",
    "clf = clf.fit(X, y)\n",
    "print(clf.feature_importances_)  \n"
   ]
  },
  {
   "cell_type": "code",
   "execution_count": 21,
   "metadata": {},
   "outputs": [
    {
     "name": "stdout",
     "output_type": "stream",
     "text": [
      "(8692, 7)\n",
      "0.7315622806268212\n",
      "0.7552188957544348\n"
     ]
    }
   ],
   "source": [
    "from sklearn.feature_selection import SelectFromModel\n",
    "\n",
    "model = SelectFromModel(clf, prefit=True, threshold=0.05)\n",
    "X_new = model.transform(X)\n",
    "print(X_new.shape)\n",
    "\n",
    "print(np.mean(cross_val_score(KNeighborsClassifier(), X=X, y=y, cv=cv, scoring='accuracy')))\n",
    "print(np.mean(cross_val_score(KNeighborsClassifier(), X=X_new, y=y, cv=cv, scoring='accuracy')))"
   ]
  },
  {
   "cell_type": "code",
   "execution_count": 26,
   "metadata": {},
   "outputs": [
    {
     "data": {
      "image/png": "[encoded data removed]",
      "text/plain": [
       "<Figure size 432x288 with 1 Axes>"
      ]
     },
     "metadata": {
      "needs_background": "light"
     },
     "output_type": "display_data"
    },
    {
     "name": "stdout",
     "output_type": "stream",
     "text": [
      "Best threshold:  0.051752036666449945\n"
     ]
    }
   ],
   "source": [
    "thresholds=clf.feature_importances_\n",
    "\n",
    "l=[]\n",
    "lparval=[]\n",
    "for threshold in thresholds:\n",
    "    model = SelectFromModel(clf, prefit=True, threshold=threshold)\n",
    "    X_new = model.transform(X)\n",
    "    params = {'n_neighbors':list(range(1,30,2)), 'weights':('distance','uniform')}\n",
    "    knc = KNeighborsClassifier()\n",
    "    clf2 = GridSearchCV(knc, param_grid=params,cv=cv)#,n_jobs=-1)  # If cv is integer, by default is Stratifyed \n",
    "    clf2.fit(X, y)\n",
    "    parval=clf2.best_params_\n",
    "    clf3 = KNeighborsClassifier(n_neighbors=parval['n_neighbors'],weights=parval['weights'])\n",
    "    acc = np.mean(cross_val_score(clf3, X=X_new, y=y, cv=cv, scoring='accuracy'))\n",
    "    l.append(acc)\n",
    "    lparval.append(parval)\n",
    "    \n",
    "plt.scatter(thresholds,l)\n",
    "plt.show()\n",
    "\n",
    "print('Best threshold: ',thresholds[np.argmax(l)])"
   ]
  },
  {
   "cell_type": "code",
   "execution_count": 27,
   "metadata": {},
   "outputs": [
    {
     "name": "stdout",
     "output_type": "stream",
     "text": [
      "(8692, 7)\n",
      "Original:  0.7027013981035907\n",
      "With FS:  0.7650823618743892\n"
     ]
    }
   ],
   "source": [
    "parval=lparval[np.argmax(l)]\n",
    "model = SelectFromModel(clf, prefit=True, threshold=thresholds[np.argmax(l)])\n",
    "X_new = model.transform(X)\n",
    "print(X_new.shape)\n",
    "\n",
    "print('Original: ', np.mean(cross_val_score(KNeighborsClassifier(n_neighbors=1), X=X, y=y, cv=cv, scoring='accuracy')))\n",
    "print('With FS: ', np.mean(cross_val_score(KNeighborsClassifier(n_neighbors=parval['n_neighbors'],weights=parval['weights']), X=X_new, y=y, cv=cv, scoring='accuracy')))"
   ]
  },
  {
   "cell_type": "code",
   "execution_count": null,
   "metadata": {},
   "outputs": [],
   "source": []
  }
 ],
 "metadata": {
  "kernelspec": {
   "display_name": "Python 3",
   "language": "python",
   "name": "python3"
  },
  "language_info": {
   "codemirror_mode": {
    "name": "ipython",
    "version": 3
   },
   "file_extension": ".py",
   "mimetype": "text/x-python",
   "name": "python",
   "nbconvert_exporter": "python",
   "pygments_lexer": "ipython3",
   "version": "3.7.5"
  },
  "nteract": {
   "version": "0.15.0"
  }
 },
 "nbformat": 4,
 "nbformat_minor": 2
}
